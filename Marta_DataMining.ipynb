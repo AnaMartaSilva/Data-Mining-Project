{
 "cells": [
  {
   "cell_type": "code",
   "execution_count": 2,
   "metadata": {},
   "outputs": [],
   "source": [
    "import sqlite3\n",
    "import os\n",
    "import pandas as pd\n",
    "import numpy as np\n",
    "import matplotlib.pyplot as plt\n",
    "import seaborn as sns\n",
    "from math import ceil\n",
    "from sklearn.preprocessing import MinMaxScaler\n"
   ]
  },
  {
   "cell_type": "code",
   "execution_count": 3,
   "metadata": {},
   "outputs": [
    {
     "name": "stderr",
     "output_type": "stream",
     "text": [
      "C:\\Users\\marta\\anaconda3\\lib\\site-packages\\IPython\\core\\interactiveshell.py:3071: DtypeWarning: Columns (9,412) have mixed types.Specify dtype option on import or set low_memory=False.\n",
      "  has_raised = await self.run_ast_nodes(code_ast.body, cell_name,\n"
     ]
    }
   ],
   "source": [
    "donors=pd.read_csv(r\"C:\\Users\\marta\\Documents\\Big data\\NOVA IMS\\20202021\\1st Semester\\Data Mining\\Project\\donors.csv\",index_col = 0)"
   ]
  },
  {
   "cell_type": "code",
   "execution_count": 4,
   "metadata": {
    "scrolled": true
   },
   "outputs": [
    {
     "data": {
      "text/html": [
       "<div>\n",
       "<style scoped>\n",
       "    .dataframe tbody tr th:only-of-type {\n",
       "        vertical-align: middle;\n",
       "    }\n",
       "\n",
       "    .dataframe tbody tr th {\n",
       "        vertical-align: top;\n",
       "    }\n",
       "\n",
       "    .dataframe thead th {\n",
       "        text-align: right;\n",
       "    }\n",
       "</style>\n",
       "<table border=\"1\" class=\"dataframe\">\n",
       "  <thead>\n",
       "    <tr style=\"text-align: right;\">\n",
       "      <th></th>\n",
       "      <th>ODATEDW</th>\n",
       "      <th>OSOURCE</th>\n",
       "      <th>TCODE</th>\n",
       "      <th>STATE</th>\n",
       "      <th>ZIP</th>\n",
       "      <th>MAILCODE</th>\n",
       "      <th>PVASTATE</th>\n",
       "      <th>DOB</th>\n",
       "      <th>NOEXCH</th>\n",
       "      <th>RECINHSE</th>\n",
       "      <th>...</th>\n",
       "      <th>AVGGIFT</th>\n",
       "      <th>CONTROLN</th>\n",
       "      <th>HPHONE_D</th>\n",
       "      <th>RFA_2R</th>\n",
       "      <th>RFA_2F</th>\n",
       "      <th>RFA_2A</th>\n",
       "      <th>MDMAUD_R</th>\n",
       "      <th>MDMAUD_F</th>\n",
       "      <th>MDMAUD_A</th>\n",
       "      <th>GEOCODE2</th>\n",
       "    </tr>\n",
       "  </thead>\n",
       "  <tbody>\n",
       "    <tr>\n",
       "      <th>0</th>\n",
       "      <td>2009-01-01</td>\n",
       "      <td>GRI</td>\n",
       "      <td>0</td>\n",
       "      <td>IL</td>\n",
       "      <td>61081</td>\n",
       "      <td></td>\n",
       "      <td></td>\n",
       "      <td>1957-12-01</td>\n",
       "      <td>0</td>\n",
       "      <td></td>\n",
       "      <td>...</td>\n",
       "      <td>7.741935</td>\n",
       "      <td>95515</td>\n",
       "      <td>0</td>\n",
       "      <td>L</td>\n",
       "      <td>4</td>\n",
       "      <td>E</td>\n",
       "      <td>X</td>\n",
       "      <td>X</td>\n",
       "      <td>X</td>\n",
       "      <td>C</td>\n",
       "    </tr>\n",
       "    <tr>\n",
       "      <th>1</th>\n",
       "      <td>2014-01-01</td>\n",
       "      <td>BOA</td>\n",
       "      <td>1</td>\n",
       "      <td>CA</td>\n",
       "      <td>91326</td>\n",
       "      <td></td>\n",
       "      <td></td>\n",
       "      <td>1972-02-01</td>\n",
       "      <td>0</td>\n",
       "      <td></td>\n",
       "      <td>...</td>\n",
       "      <td>15.666667</td>\n",
       "      <td>148535</td>\n",
       "      <td>0</td>\n",
       "      <td>L</td>\n",
       "      <td>2</td>\n",
       "      <td>G</td>\n",
       "      <td>X</td>\n",
       "      <td>X</td>\n",
       "      <td>X</td>\n",
       "      <td>A</td>\n",
       "    </tr>\n",
       "    <tr>\n",
       "      <th>2</th>\n",
       "      <td>2010-01-01</td>\n",
       "      <td>AMH</td>\n",
       "      <td>1</td>\n",
       "      <td>NC</td>\n",
       "      <td>27017</td>\n",
       "      <td></td>\n",
       "      <td></td>\n",
       "      <td>NaN</td>\n",
       "      <td>0</td>\n",
       "      <td></td>\n",
       "      <td>...</td>\n",
       "      <td>7.481481</td>\n",
       "      <td>15078</td>\n",
       "      <td>1</td>\n",
       "      <td>L</td>\n",
       "      <td>4</td>\n",
       "      <td>E</td>\n",
       "      <td>X</td>\n",
       "      <td>X</td>\n",
       "      <td>X</td>\n",
       "      <td>C</td>\n",
       "    </tr>\n",
       "    <tr>\n",
       "      <th>3</th>\n",
       "      <td>2007-01-01</td>\n",
       "      <td>BRY</td>\n",
       "      <td>0</td>\n",
       "      <td>CA</td>\n",
       "      <td>95953</td>\n",
       "      <td></td>\n",
       "      <td></td>\n",
       "      <td>1948-01-01</td>\n",
       "      <td>0</td>\n",
       "      <td></td>\n",
       "      <td>...</td>\n",
       "      <td>6.812500</td>\n",
       "      <td>172556</td>\n",
       "      <td>1</td>\n",
       "      <td>L</td>\n",
       "      <td>4</td>\n",
       "      <td>E</td>\n",
       "      <td>X</td>\n",
       "      <td>X</td>\n",
       "      <td>X</td>\n",
       "      <td>C</td>\n",
       "    </tr>\n",
       "    <tr>\n",
       "      <th>4</th>\n",
       "      <td>2006-01-01</td>\n",
       "      <td></td>\n",
       "      <td>0</td>\n",
       "      <td>FL</td>\n",
       "      <td>33176</td>\n",
       "      <td></td>\n",
       "      <td></td>\n",
       "      <td>1940-01-01</td>\n",
       "      <td>0</td>\n",
       "      <td>X</td>\n",
       "      <td>...</td>\n",
       "      <td>6.864865</td>\n",
       "      <td>7112</td>\n",
       "      <td>1</td>\n",
       "      <td>L</td>\n",
       "      <td>2</td>\n",
       "      <td>F</td>\n",
       "      <td>X</td>\n",
       "      <td>X</td>\n",
       "      <td>X</td>\n",
       "      <td>A</td>\n",
       "    </tr>\n",
       "  </tbody>\n",
       "</table>\n",
       "<p>5 rows × 475 columns</p>\n",
       "</div>"
      ],
      "text/plain": [
       "      ODATEDW OSOURCE  TCODE STATE    ZIP MAILCODE PVASTATE         DOB  \\\n",
       "0  2009-01-01     GRI      0    IL  61081                    1957-12-01   \n",
       "1  2014-01-01     BOA      1    CA  91326                    1972-02-01   \n",
       "2  2010-01-01     AMH      1    NC  27017                           NaN   \n",
       "3  2007-01-01     BRY      0    CA  95953                    1948-01-01   \n",
       "4  2006-01-01              0    FL  33176                    1940-01-01   \n",
       "\n",
       "  NOEXCH RECINHSE  ...    AVGGIFT CONTROLN HPHONE_D RFA_2R RFA_2F RFA_2A  \\\n",
       "0      0           ...   7.741935    95515        0      L      4      E   \n",
       "1      0           ...  15.666667   148535        0      L      2      G   \n",
       "2      0           ...   7.481481    15078        1      L      4      E   \n",
       "3      0           ...   6.812500   172556        1      L      4      E   \n",
       "4      0        X  ...   6.864865     7112        1      L      2      F   \n",
       "\n",
       "  MDMAUD_R MDMAUD_F MDMAUD_A GEOCODE2  \n",
       "0        X        X        X        C  \n",
       "1        X        X        X        A  \n",
       "2        X        X        X        C  \n",
       "3        X        X        X        C  \n",
       "4        X        X        X        A  \n",
       "\n",
       "[5 rows x 475 columns]"
      ]
     },
     "execution_count": 4,
     "metadata": {},
     "output_type": "execute_result"
    }
   ],
   "source": [
    "donors.head()"
   ]
  },
  {
   "cell_type": "code",
   "execution_count": 5,
   "metadata": {},
   "outputs": [
    {
     "name": "stdout",
     "output_type": "stream",
     "text": [
      "<class 'pandas.core.frame.DataFrame'>\n",
      "Int64Index: 95412 entries, 0 to 95411\n",
      "Data columns (total 475 columns):\n",
      " #   Column    Non-Null Count  Dtype  \n",
      "---  ------    --------------  -----  \n",
      " 0   ODATEDW   95412 non-null  object \n",
      " 1   OSOURCE   95412 non-null  object \n",
      " 2   TCODE     95412 non-null  int64  \n",
      " 3   STATE     95412 non-null  object \n",
      " 4   ZIP       95412 non-null  object \n",
      " 5   MAILCODE  95412 non-null  object \n",
      " 6   PVASTATE  95412 non-null  object \n",
      " 7   DOB       71529 non-null  object \n",
      " 8   NOEXCH    95412 non-null  object \n",
      " 9   RECINHSE  95412 non-null  object \n",
      " 10  RECP3     95412 non-null  object \n",
      " 11  RECPGVG   95412 non-null  object \n",
      " 12  RECSWEEP  95412 non-null  object \n",
      " 13  MDMAUD    95412 non-null  object \n",
      " 14  DOMAIN    95412 non-null  object \n",
      " 15  HOMEOWNR  95412 non-null  object \n",
      " 16  CHILD03   95412 non-null  object \n",
      " 17  CHILD07   95412 non-null  object \n",
      " 18  CHILD12   95412 non-null  object \n",
      " 19  CHILD18   95412 non-null  object \n",
      " 20  NUMCHLD   12386 non-null  float64\n",
      " 21  INCOME    74126 non-null  float64\n",
      " 22  GENDER    95412 non-null  object \n",
      " 23  WEALTH1   50680 non-null  float64\n",
      " 24  HIT       95412 non-null  int64  \n",
      " 25  MBCRAFT   42558 non-null  float64\n",
      " 26  MBGARDEN  42558 non-null  float64\n",
      " 27  MBBOOKS   42558 non-null  float64\n",
      " 28  MBCOLECT  42498 non-null  float64\n",
      " 29  MAGFAML   42558 non-null  float64\n",
      " 30  MAGFEM    42558 non-null  float64\n",
      " 31  MAGMALE   42558 non-null  float64\n",
      " 32  PUBGARDN  42558 non-null  float64\n",
      " 33  PUBCULIN  42558 non-null  float64\n",
      " 34  PUBHLTH   42558 non-null  float64\n",
      " 35  PUBDOITY  42558 non-null  float64\n",
      " 36  PUBNEWFN  42558 non-null  float64\n",
      " 37  PUBPHOTO  42558 non-null  float64\n",
      " 38  PUBOPP    42558 non-null  float64\n",
      " 39  DATASRCE  95412 non-null  object \n",
      " 40  MALEMILI  95412 non-null  int64  \n",
      " 41  MALEVET   95412 non-null  int64  \n",
      " 42  VIETVETS  95412 non-null  int64  \n",
      " 43  WWIIVETS  95412 non-null  int64  \n",
      " 44  LOCALGOV  95412 non-null  int64  \n",
      " 45  STATEGOV  95412 non-null  int64  \n",
      " 46  FEDGOV    95412 non-null  int64  \n",
      " 47  SOLP3     95412 non-null  object \n",
      " 48  SOLIH     95412 non-null  object \n",
      " 49  MAJOR     95412 non-null  object \n",
      " 50  WEALTH2   51589 non-null  float64\n",
      " 51  GEOCODE   95412 non-null  object \n",
      " 52  COLLECT1  95412 non-null  object \n",
      " 53  VETERANS  95412 non-null  object \n",
      " 54  BIBLE     95412 non-null  object \n",
      " 55  CATLG     95412 non-null  object \n",
      " 56  HOMEE     95412 non-null  object \n",
      " 57  PETS      95412 non-null  object \n",
      " 58  CDPLAY    95412 non-null  object \n",
      " 59  STEREO    95412 non-null  object \n",
      " 60  PCOWNERS  95412 non-null  object \n",
      " 61  PHOTO     95412 non-null  object \n",
      " 62  CRAFTS    95412 non-null  object \n",
      " 63  FISHER    95412 non-null  object \n",
      " 64  GARDENIN  95412 non-null  object \n",
      " 65  BOATS     95412 non-null  object \n",
      " 66  WALKER    95412 non-null  object \n",
      " 67  KIDSTUFF  95412 non-null  object \n",
      " 68  CARDS     95412 non-null  object \n",
      " 69  PLATES    95412 non-null  object \n",
      " 70  LIFESRC   95412 non-null  object \n",
      " 71  PEPSTRFL  95412 non-null  object \n",
      " 72  POP901    95412 non-null  int64  \n",
      " 73  POP902    95412 non-null  int64  \n",
      " 74  POP903    95412 non-null  int64  \n",
      " 75  POP90C1   95412 non-null  int64  \n",
      " 76  POP90C2   95412 non-null  int64  \n",
      " 77  POP90C3   95412 non-null  int64  \n",
      " 78  POP90C4   95412 non-null  int64  \n",
      " 79  POP90C5   95412 non-null  int64  \n",
      " 80  ETH1      95412 non-null  int64  \n",
      " 81  ETH2      95412 non-null  int64  \n",
      " 82  ETH3      95412 non-null  int64  \n",
      " 83  ETH4      95412 non-null  int64  \n",
      " 84  ETH5      95412 non-null  int64  \n",
      " 85  ETH6      95412 non-null  int64  \n",
      " 86  ETH7      95412 non-null  int64  \n",
      " 87  ETH8      95412 non-null  int64  \n",
      " 88  ETH9      95412 non-null  int64  \n",
      " 89  ETH10     95412 non-null  int64  \n",
      " 90  ETH11     95412 non-null  int64  \n",
      " 91  ETH12     95412 non-null  int64  \n",
      " 92  ETH13     95412 non-null  int64  \n",
      " 93  ETH14     95412 non-null  int64  \n",
      " 94  ETH15     95412 non-null  int64  \n",
      " 95  ETH16     95412 non-null  int64  \n",
      " 96  AGE901    95412 non-null  int64  \n",
      " 97  AGE902    95412 non-null  int64  \n",
      " 98  AGE903    95412 non-null  int64  \n",
      " 99  AGE904    95412 non-null  int64  \n",
      " 100 AGE905    95412 non-null  int64  \n",
      " 101 AGE906    95412 non-null  int64  \n",
      " 102 AGE907    95412 non-null  int64  \n",
      " 103 CHIL1     95412 non-null  int64  \n",
      " 104 CHIL2     95412 non-null  int64  \n",
      " 105 CHIL3     95412 non-null  int64  \n",
      " 106 AGEC1     95412 non-null  int64  \n",
      " 107 AGEC2     95412 non-null  int64  \n",
      " 108 AGEC3     95412 non-null  int64  \n",
      " 109 AGEC4     95412 non-null  int64  \n",
      " 110 AGEC5     95412 non-null  int64  \n",
      " 111 AGEC6     95412 non-null  int64  \n",
      " 112 AGEC7     95412 non-null  int64  \n",
      " 113 CHILC1    95412 non-null  int64  \n",
      " 114 CHILC2    95412 non-null  int64  \n",
      " 115 CHILC3    95412 non-null  int64  \n",
      " 116 CHILC4    95412 non-null  int64  \n",
      " 117 CHILC5    95412 non-null  int64  \n",
      " 118 HHAGE1    95412 non-null  int64  \n",
      " 119 HHAGE2    95412 non-null  int64  \n",
      " 120 HHAGE3    95412 non-null  int64  \n",
      " 121 HHN1      95412 non-null  int64  \n",
      " 122 HHN2      95412 non-null  int64  \n",
      " 123 HHN3      95412 non-null  int64  \n",
      " 124 HHN4      95412 non-null  int64  \n",
      " 125 HHN5      95412 non-null  int64  \n",
      " 126 HHN6      95412 non-null  int64  \n",
      " 127 MARR1     95412 non-null  int64  \n",
      " 128 MARR2     95412 non-null  int64  \n",
      " 129 MARR3     95412 non-null  int64  \n",
      " 130 MARR4     95412 non-null  int64  \n",
      " 131 HHP1      95412 non-null  int64  \n",
      " 132 HHP2      95412 non-null  int64  \n",
      " 133 DW1       95412 non-null  int64  \n",
      " 134 DW2       95412 non-null  int64  \n",
      " 135 DW3       95412 non-null  int64  \n",
      " 136 DW4       95412 non-null  int64  \n",
      " 137 DW5       95412 non-null  int64  \n",
      " 138 DW6       95412 non-null  int64  \n",
      " 139 DW7       95412 non-null  int64  \n",
      " 140 DW8       95412 non-null  int64  \n",
      " 141 DW9       95412 non-null  int64  \n",
      " 142 HV1       95412 non-null  int64  \n",
      " 143 HV2       95412 non-null  int64  \n",
      " 144 HV3       95412 non-null  int64  \n",
      " 145 HV4       95412 non-null  int64  \n",
      " 146 HU1       95412 non-null  int64  \n",
      " 147 HU2       95412 non-null  int64  \n",
      " 148 HU3       95412 non-null  int64  \n",
      " 149 HU4       95412 non-null  int64  \n",
      " 150 HU5       95412 non-null  int64  \n",
      " 151 HHD1      95412 non-null  int64  \n",
      " 152 HHD2      95412 non-null  int64  \n",
      " 153 HHD3      95412 non-null  int64  \n",
      " 154 HHD4      95412 non-null  int64  \n",
      " 155 HHD5      95412 non-null  int64  \n",
      " 156 HHD6      95412 non-null  int64  \n",
      " 157 HHD7      95412 non-null  int64  \n",
      " 158 HHD8      95412 non-null  int64  \n",
      " 159 HHD9      95412 non-null  int64  \n",
      " 160 HHD10     95412 non-null  int64  \n",
      " 161 HHD11     95412 non-null  int64  \n",
      " 162 HHD12     95412 non-null  int64  \n",
      " 163 ETHC1     95412 non-null  int64  \n",
      " 164 ETHC2     95412 non-null  int64  \n",
      " 165 ETHC3     95412 non-null  int64  \n",
      " 166 ETHC4     95412 non-null  int64  \n",
      " 167 ETHC5     95412 non-null  int64  \n",
      " 168 ETHC6     95412 non-null  int64  \n",
      " 169 HVP1      95412 non-null  int64  \n",
      " 170 HVP2      95412 non-null  int64  \n",
      " 171 HVP3      95412 non-null  int64  \n",
      " 172 HVP4      95412 non-null  int64  \n",
      " 173 HVP5      95412 non-null  int64  \n",
      " 174 HVP6      95412 non-null  int64  \n",
      " 175 HUR1      95412 non-null  int64  \n",
      " 176 HUR2      95412 non-null  int64  \n",
      " 177 RHP1      95412 non-null  int64  \n",
      " 178 RHP2      95412 non-null  int64  \n",
      " 179 RHP3      95412 non-null  int64  \n",
      " 180 RHP4      95412 non-null  int64  \n",
      " 181 HUPA1     95412 non-null  int64  \n",
      " 182 HUPA2     95412 non-null  int64  \n",
      " 183 HUPA3     95412 non-null  int64  \n",
      " 184 HUPA4     95412 non-null  int64  \n",
      " 185 HUPA5     95412 non-null  int64  \n",
      " 186 HUPA6     95412 non-null  int64  \n",
      " 187 HUPA7     95412 non-null  int64  \n",
      " 188 RP1       95412 non-null  int64  \n",
      " 189 RP2       95412 non-null  int64  \n",
      " 190 RP3       95412 non-null  int64  \n",
      " 191 RP4       95412 non-null  int64  \n",
      " 192 MSA       95280 non-null  float64\n",
      " 193 ADI       95280 non-null  float64\n",
      " 194 DMA       95280 non-null  float64\n",
      " 195 IC1       95412 non-null  int64  \n",
      " 196 IC2       95412 non-null  int64  \n",
      " 197 IC3       95412 non-null  int64  \n",
      " 198 IC4       95412 non-null  int64  \n",
      " 199 IC5       95412 non-null  int64  \n",
      " 200 IC6       95412 non-null  int64  \n",
      " 201 IC7       95412 non-null  int64  \n",
      " 202 IC8       95412 non-null  int64  \n",
      " 203 IC9       95412 non-null  int64  \n",
      " 204 IC10      95412 non-null  int64  \n",
      " 205 IC11      95412 non-null  int64  \n",
      " 206 IC12      95412 non-null  int64  \n",
      " 207 IC13      95412 non-null  int64  \n",
      " 208 IC14      95412 non-null  int64  \n",
      " 209 IC15      95412 non-null  int64  \n",
      " 210 IC16      95412 non-null  int64  \n",
      " 211 IC17      95412 non-null  int64  \n",
      " 212 IC18      95412 non-null  int64  \n",
      " 213 IC19      95412 non-null  int64  \n",
      " 214 IC20      95412 non-null  int64  \n",
      " 215 IC21      95412 non-null  int64  \n",
      " 216 IC22      95412 non-null  int64  \n",
      " 217 IC23      95412 non-null  int64  \n",
      " 218 HHAS1     95412 non-null  int64  \n",
      " 219 HHAS2     95412 non-null  int64  \n",
      " 220 HHAS3     95412 non-null  int64  \n",
      " 221 HHAS4     95412 non-null  int64  \n",
      " 222 MC1       95412 non-null  int64  \n",
      " 223 MC2       95412 non-null  int64  \n",
      " 224 MC3       95412 non-null  int64  \n",
      " 225 TPE1      95412 non-null  int64  \n",
      " 226 TPE2      95412 non-null  int64  \n",
      " 227 TPE3      95412 non-null  int64  \n",
      " 228 TPE4      95412 non-null  int64  \n",
      " 229 TPE5      95412 non-null  int64  \n",
      " 230 TPE6      95412 non-null  int64  \n",
      " 231 TPE7      95412 non-null  int64  \n",
      " 232 TPE8      95412 non-null  int64  \n",
      " 233 TPE9      95412 non-null  int64  \n",
      " 234 PEC1      95412 non-null  int64  \n",
      " 235 PEC2      95412 non-null  int64  \n",
      " 236 TPE10     95412 non-null  int64  \n",
      " 237 TPE11     95412 non-null  int64  \n",
      " 238 TPE12     95412 non-null  int64  \n",
      " 239 TPE13     95412 non-null  int64  \n",
      " 240 LFC1      95412 non-null  int64  \n",
      " 241 LFC2      95412 non-null  int64  \n",
      " 242 LFC3      95412 non-null  int64  \n",
      " 243 LFC4      95412 non-null  int64  \n",
      " 244 LFC5      95412 non-null  int64  \n",
      " 245 LFC6      95412 non-null  int64  \n",
      " 246 LFC7      95412 non-null  int64  \n",
      " 247 LFC8      95412 non-null  int64  \n",
      " 248 LFC9      95412 non-null  int64  \n",
      " 249 LFC10     95412 non-null  int64  \n",
      " 250 OCC1      95412 non-null  int64  \n",
      " 251 OCC2      95412 non-null  int64  \n",
      " 252 OCC3      95412 non-null  int64  \n",
      " 253 OCC4      95412 non-null  int64  \n",
      " 254 OCC5      95412 non-null  int64  \n",
      " 255 OCC6      95412 non-null  int64  \n",
      " 256 OCC7      95412 non-null  int64  \n",
      " 257 OCC8      95412 non-null  int64  \n",
      " 258 OCC9      95412 non-null  int64  \n",
      " 259 OCC10     95412 non-null  int64  \n",
      " 260 OCC11     95412 non-null  int64  \n",
      " 261 OCC12     95412 non-null  int64  \n",
      " 262 OCC13     95412 non-null  int64  \n",
      " 263 EIC1      95412 non-null  int64  \n",
      " 264 EIC2      95412 non-null  int64  \n",
      " 265 EIC3      95412 non-null  int64  \n",
      " 266 EIC4      95412 non-null  int64  \n",
      " 267 EIC5      95412 non-null  int64  \n",
      " 268 EIC6      95412 non-null  int64  \n",
      " 269 EIC7      95412 non-null  int64  \n",
      " 270 EIC8      95412 non-null  int64  \n",
      " 271 EIC9      95412 non-null  int64  \n",
      " 272 EIC10     95412 non-null  int64  \n",
      " 273 EIC11     95412 non-null  int64  \n",
      " 274 EIC12     95412 non-null  int64  \n",
      " 275 EIC13     95412 non-null  int64  \n",
      " 276 EIC14     95412 non-null  int64  \n",
      " 277 EIC15     95412 non-null  int64  \n",
      " 278 EIC16     95412 non-null  int64  \n",
      " 279 OEDC1     95412 non-null  int64  \n",
      " 280 OEDC2     95412 non-null  int64  \n",
      " 281 OEDC3     95412 non-null  int64  \n",
      " 282 OEDC4     95412 non-null  int64  \n",
      " 283 OEDC5     95412 non-null  int64  \n",
      " 284 OEDC6     95412 non-null  int64  \n",
      " 285 OEDC7     95412 non-null  int64  \n",
      " 286 EC1       95412 non-null  int64  \n",
      " 287 EC2       95412 non-null  int64  \n",
      " 288 EC3       95412 non-null  int64  \n",
      " 289 EC4       95412 non-null  int64  \n",
      " 290 EC5       95412 non-null  int64  \n",
      " 291 EC6       95412 non-null  int64  \n",
      " 292 EC7       95412 non-null  int64  \n",
      " 293 EC8       95412 non-null  int64  \n",
      " 294 SEC1      95412 non-null  int64  \n",
      " 295 SEC2      95412 non-null  int64  \n",
      " 296 SEC3      95412 non-null  int64  \n",
      " 297 SEC4      95412 non-null  int64  \n",
      " 298 SEC5      95412 non-null  int64  \n",
      " 299 AFC1      95412 non-null  int64  \n",
      " 300 AFC2      95412 non-null  int64  \n",
      " 301 AFC3      95412 non-null  int64  \n",
      " 302 AFC4      95412 non-null  int64  \n",
      " 303 AFC5      95412 non-null  int64  \n",
      " 304 AFC6      95412 non-null  int64  \n",
      " 305 VC1       95412 non-null  int64  \n",
      " 306 VC2       95412 non-null  int64  \n",
      " 307 VC3       95412 non-null  int64  \n",
      " 308 VC4       95412 non-null  int64  \n",
      " 309 ANC1      95412 non-null  int64  \n",
      " 310 ANC2      95412 non-null  int64  \n",
      " 311 ANC3      95412 non-null  int64  \n",
      " 312 ANC4      95412 non-null  int64  \n",
      " 313 ANC5      95412 non-null  int64  \n",
      " 314 ANC6      95412 non-null  int64  \n",
      " 315 ANC7      95412 non-null  int64  \n",
      " 316 ANC8      95412 non-null  int64  \n",
      " 317 ANC9      95412 non-null  int64  \n",
      " 318 ANC10     95412 non-null  int64  \n",
      " 319 ANC11     95412 non-null  int64  \n",
      " 320 ANC12     95412 non-null  int64  \n",
      " 321 ANC13     95412 non-null  int64  \n",
      " 322 ANC14     95412 non-null  int64  \n",
      " 323 ANC15     95412 non-null  int64  \n",
      " 324 POBC1     95412 non-null  int64  \n",
      " 325 POBC2     95412 non-null  int64  \n",
      " 326 LSC1      95412 non-null  int64  \n",
      " 327 LSC2      95412 non-null  int64  \n",
      " 328 LSC3      95412 non-null  int64  \n",
      " 329 LSC4      95412 non-null  int64  \n",
      " 330 VOC1      95412 non-null  int64  \n",
      " 331 VOC2      95412 non-null  int64  \n",
      " 332 VOC3      95412 non-null  int64  \n",
      " 333 HC1       95412 non-null  int64  \n",
      " 334 HC2       95412 non-null  int64  \n",
      " 335 HC3       95412 non-null  int64  \n",
      " 336 HC4       95412 non-null  int64  \n",
      " 337 HC5       95412 non-null  int64  \n",
      " 338 HC6       95412 non-null  int64  \n",
      " 339 HC7       95412 non-null  int64  \n",
      " 340 HC8       95412 non-null  int64  \n",
      " 341 HC9       95412 non-null  int64  \n",
      " 342 HC10      95412 non-null  int64  \n",
      " 343 HC11      95412 non-null  int64  \n",
      " 344 HC12      95412 non-null  int64  \n",
      " 345 HC13      95412 non-null  int64  \n",
      " 346 HC14      95412 non-null  int64  \n",
      " 347 HC15      95412 non-null  int64  \n",
      " 348 HC16      95412 non-null  int64  \n",
      " 349 HC17      95412 non-null  int64  \n",
      " 350 HC18      95412 non-null  int64  \n",
      " 351 HC19      95412 non-null  int64  \n",
      " 352 HC20      95412 non-null  int64  \n",
      " 353 HC21      95412 non-null  int64  \n",
      " 354 MHUC1     95412 non-null  int64  \n",
      " 355 MHUC2     95412 non-null  int64  \n",
      " 356 AC1       95412 non-null  int64  \n",
      " 357 AC2       95412 non-null  int64  \n",
      " 358 ADATE_2   95412 non-null  object \n",
      " 359 ADATE_3   93462 non-null  object \n",
      " 360 ADATE_4   93221 non-null  object \n",
      " 361 ADATE_5   61822 non-null  object \n",
      " 362 ADATE_6   91855 non-null  object \n",
      " 363 ADATE_7   86538 non-null  object \n",
      " 364 ADATE_8   91901 non-null  object \n",
      " 365 ADATE_9   84167 non-null  object \n",
      " 366 ADATE_10  62664 non-null  object \n",
      " 367 ADATE_11  84990 non-null  object \n",
      " 368 ADATE_12  86489 non-null  object \n",
      " 369 ADATE_13  55193 non-null  object \n",
      " 370 ADATE_14  76545 non-null  object \n",
      " 371 ADATE_15  29935 non-null  object \n",
      " 372 ADATE_16  75048 non-null  object \n",
      " 373 ADATE_17  67762 non-null  object \n",
      " 374 ADATE_18  74149 non-null  object \n",
      " 375 ADATE_19  70932 non-null  object \n",
      " 376 ADATE_20  45212 non-null  object \n",
      " 377 ADATE_21  60200 non-null  object \n",
      " 378 ADATE_22  69764 non-null  object \n",
      " 379 ADATE_23  39142 non-null  object \n",
      " 380 ADATE_24  58439 non-null  object \n",
      " 381 RFA_2     95412 non-null  object \n",
      " 382 RFA_3     95412 non-null  object \n",
      " 383 RFA_4     95412 non-null  object \n",
      " 384 RFA_5     95412 non-null  object \n",
      " 385 RFA_6     95412 non-null  object \n",
      " 386 RFA_7     95412 non-null  object \n",
      " 387 RFA_8     95412 non-null  object \n",
      " 388 RFA_9     95412 non-null  object \n",
      " 389 RFA_10    95412 non-null  object \n",
      " 390 RFA_11    95412 non-null  object \n",
      " 391 RFA_12    95412 non-null  object \n",
      " 392 RFA_13    95412 non-null  object \n",
      " 393 RFA_14    95412 non-null  object \n",
      " 394 RFA_15    95412 non-null  object \n",
      " 395 RFA_16    95412 non-null  object \n",
      " 396 RFA_17    95412 non-null  object \n",
      " 397 RFA_18    95412 non-null  object \n",
      " 398 RFA_19    95412 non-null  object \n",
      " 399 RFA_20    95412 non-null  object \n",
      " 400 RFA_21    95412 non-null  object \n",
      " 401 RFA_22    95412 non-null  object \n",
      " 402 RFA_23    95412 non-null  object \n",
      " 403 RFA_24    95412 non-null  object \n",
      " 404 CARDPROM  95412 non-null  int64  \n",
      " 405 MAXADATE  95412 non-null  object \n",
      " 406 NUMPROM   95412 non-null  int64  \n",
      " 407 CARDPM12  95412 non-null  int64  \n",
      " 408 NUMPRM12  95412 non-null  int64  \n",
      " 409 RDATE_3   242 non-null    object \n",
      " 410 RDATE_4   281 non-null    object \n",
      " 411 RDATE_5   9 non-null      object \n",
      " 412 RDATE_6   776 non-null    object \n",
      " 413 RDATE_7   8895 non-null   object \n",
      " 414 RDATE_8   21472 non-null  object \n",
      " 415 RDATE_9   16734 non-null  object \n",
      " 416 RDATE_10  10461 non-null  object \n",
      " 417 RDATE_11  14740 non-null  object \n",
      " 418 RDATE_12  25700 non-null  object \n",
      " 419 RDATE_13  12250 non-null  object \n",
      " 420 RDATE_14  23317 non-null  object \n",
      " 421 RDATE_15  7262 non-null   object \n",
      " 422 RDATE_16  26994 non-null  object \n",
      " 423 RDATE_17  9401 non-null   object \n",
      " 424 RDATE_18  19778 non-null  object \n",
      " 425 RDATE_19  15877 non-null  object \n",
      " 426 RDATE_20  7888 non-null   object \n",
      " 427 RDATE_21  9513 non-null   object \n",
      " 428 RDATE_22  20873 non-null  object \n",
      " 429 RDATE_23  7859 non-null   object \n",
      " 430 RDATE_24  17738 non-null  object \n",
      " 431 RAMNT_3   242 non-null    float64\n",
      " 432 RAMNT_4   281 non-null    float64\n",
      " 433 RAMNT_5   9 non-null      float64\n",
      " 434 RAMNT_6   776 non-null    float64\n",
      " 435 RAMNT_7   8895 non-null   float64\n",
      " 436 RAMNT_8   21472 non-null  float64\n",
      " 437 RAMNT_9   16734 non-null  float64\n",
      " 438 RAMNT_10  10461 non-null  float64\n",
      " 439 RAMNT_11  14740 non-null  float64\n",
      " 440 RAMNT_12  25700 non-null  float64\n",
      " 441 RAMNT_13  12250 non-null  float64\n",
      " 442 RAMNT_14  23317 non-null  float64\n",
      " 443 RAMNT_15  7262 non-null   float64\n",
      " 444 RAMNT_16  26994 non-null  float64\n",
      " 445 RAMNT_17  9401 non-null   float64\n",
      " 446 RAMNT_18  19778 non-null  float64\n",
      " 447 RAMNT_19  15877 non-null  float64\n",
      " 448 RAMNT_20  7888 non-null   float64\n",
      " 449 RAMNT_21  9513 non-null   float64\n",
      " 450 RAMNT_22  20873 non-null  float64\n",
      " 451 RAMNT_23  7859 non-null   float64\n",
      " 452 RAMNT_24  17738 non-null  float64\n",
      " 453 RAMNTALL  95412 non-null  float64\n",
      " 454 NGIFTALL  95412 non-null  int64  \n",
      " 455 CARDGIFT  95412 non-null  int64  \n",
      " 456 MINRAMNT  95412 non-null  float64\n",
      " 457 MINRDATE  95412 non-null  object \n",
      " 458 MAXRAMNT  95412 non-null  float64\n",
      " 459 MAXRDATE  95412 non-null  object \n",
      " 460 LASTGIFT  95412 non-null  float64\n",
      " 461 LASTDATE  95412 non-null  object \n",
      " 462 FISTDATE  95410 non-null  object \n",
      " 463 NEXTDATE  85439 non-null  object \n",
      " 464 TIMELAG   85439 non-null  float64\n",
      " 465 AVGGIFT   95412 non-null  float64\n",
      " 466 CONTROLN  95412 non-null  int64  \n",
      " 467 HPHONE_D  95412 non-null  int64  \n",
      " 468 RFA_2R    95412 non-null  object \n",
      " 469 RFA_2F    95412 non-null  int64  \n",
      " 470 RFA_2A    95412 non-null  object \n",
      " 471 MDMAUD_R  95412 non-null  object \n",
      " 472 MDMAUD_F  95412 non-null  object \n",
      " 473 MDMAUD_A  95412 non-null  object \n",
      " 474 GEOCODE2  95280 non-null  object \n",
      "dtypes: float64(49), int64(301), object(125)\n",
      "memory usage: 346.5+ MB\n"
     ]
    }
   ],
   "source": [
    "donors.info(verbose=True,null_counts=True)"
   ]
  },
  {
   "cell_type": "code",
   "execution_count": 6,
   "metadata": {},
   "outputs": [
    {
     "name": "stdout",
     "output_type": "stream",
     "text": [
      "<class 'pandas.core.frame.DataFrame'>\n",
      "Int64Index: 95412 entries, 0 to 95411\n",
      "Columns: 475 entries, ODATEDW to GEOCODE2\n",
      "dtypes: float64(49), int64(301), object(125)\n",
      "memory usage: 346.5+ MB\n"
     ]
    }
   ],
   "source": [
    "donors.info()"
   ]
  },
  {
   "cell_type": "code",
   "execution_count": 7,
   "metadata": {},
   "outputs": [
    {
     "data": {
      "text/plain": [
       "ODATEDW     object\n",
       "OSOURCE     object\n",
       "TCODE        int64\n",
       "STATE       object\n",
       "ZIP         object\n",
       "             ...  \n",
       "RFA_2A      object\n",
       "MDMAUD_R    object\n",
       "MDMAUD_F    object\n",
       "MDMAUD_A    object\n",
       "GEOCODE2    object\n",
       "Length: 475, dtype: object"
      ]
     },
     "execution_count": 7,
     "metadata": {},
     "output_type": "execute_result"
    }
   ],
   "source": [
    "donors.dtypes"
   ]
  },
  {
   "cell_type": "code",
   "execution_count": 8,
   "metadata": {},
   "outputs": [
    {
     "data": {
      "text/plain": [
       "ODATEDW       0\n",
       "OSOURCE       0\n",
       "TCODE         0\n",
       "STATE         0\n",
       "ZIP           0\n",
       "           ... \n",
       "RFA_2A        0\n",
       "MDMAUD_R      0\n",
       "MDMAUD_F      0\n",
       "MDMAUD_A      0\n",
       "GEOCODE2    132\n",
       "Length: 475, dtype: int64"
      ]
     },
     "execution_count": 8,
     "metadata": {},
     "output_type": "execute_result"
    }
   ],
   "source": [
    "donors.isna().sum()"
   ]
  },
  {
   "cell_type": "code",
   "execution_count": 9,
   "metadata": {},
   "outputs": [
    {
     "data": {
      "text/plain": [
       "0"
      ]
     },
     "execution_count": 9,
     "metadata": {},
     "output_type": "execute_result"
    }
   ],
   "source": [
    "donors.duplicated().sum()"
   ]
  },
  {
   "cell_type": "code",
   "execution_count": 10,
   "metadata": {},
   "outputs": [
    {
     "data": {
      "text/html": [
       "<div>\n",
       "<style scoped>\n",
       "    .dataframe tbody tr th:only-of-type {\n",
       "        vertical-align: middle;\n",
       "    }\n",
       "\n",
       "    .dataframe tbody tr th {\n",
       "        vertical-align: top;\n",
       "    }\n",
       "\n",
       "    .dataframe thead th {\n",
       "        text-align: right;\n",
       "    }\n",
       "</style>\n",
       "<table border=\"1\" class=\"dataframe\">\n",
       "  <thead>\n",
       "    <tr style=\"text-align: right;\">\n",
       "      <th></th>\n",
       "      <th>ODATEDW</th>\n",
       "      <th>OSOURCE</th>\n",
       "      <th>TCODE</th>\n",
       "      <th>STATE</th>\n",
       "      <th>ZIP</th>\n",
       "      <th>MAILCODE</th>\n",
       "      <th>PVASTATE</th>\n",
       "      <th>DOB</th>\n",
       "      <th>NOEXCH</th>\n",
       "      <th>RECINHSE</th>\n",
       "      <th>...</th>\n",
       "      <th>AVGGIFT</th>\n",
       "      <th>CONTROLN</th>\n",
       "      <th>HPHONE_D</th>\n",
       "      <th>RFA_2R</th>\n",
       "      <th>RFA_2F</th>\n",
       "      <th>RFA_2A</th>\n",
       "      <th>MDMAUD_R</th>\n",
       "      <th>MDMAUD_F</th>\n",
       "      <th>MDMAUD_A</th>\n",
       "      <th>GEOCODE2</th>\n",
       "    </tr>\n",
       "  </thead>\n",
       "  <tbody>\n",
       "    <tr>\n",
       "      <th>count</th>\n",
       "      <td>95412</td>\n",
       "      <td>95412</td>\n",
       "      <td>95412.000000</td>\n",
       "      <td>95412</td>\n",
       "      <td>95412</td>\n",
       "      <td>95412</td>\n",
       "      <td>95412</td>\n",
       "      <td>71529</td>\n",
       "      <td>95412</td>\n",
       "      <td>95412</td>\n",
       "      <td>...</td>\n",
       "      <td>95412.000000</td>\n",
       "      <td>95412.000000</td>\n",
       "      <td>95412.000000</td>\n",
       "      <td>95412</td>\n",
       "      <td>95412.000000</td>\n",
       "      <td>95412</td>\n",
       "      <td>95412</td>\n",
       "      <td>95412</td>\n",
       "      <td>95412</td>\n",
       "      <td>95280</td>\n",
       "    </tr>\n",
       "    <tr>\n",
       "      <th>unique</th>\n",
       "      <td>54</td>\n",
       "      <td>896</td>\n",
       "      <td>NaN</td>\n",
       "      <td>57</td>\n",
       "      <td>19938</td>\n",
       "      <td>2</td>\n",
       "      <td>3</td>\n",
       "      <td>847</td>\n",
       "      <td>6</td>\n",
       "      <td>2</td>\n",
       "      <td>...</td>\n",
       "      <td>NaN</td>\n",
       "      <td>NaN</td>\n",
       "      <td>NaN</td>\n",
       "      <td>1</td>\n",
       "      <td>NaN</td>\n",
       "      <td>4</td>\n",
       "      <td>5</td>\n",
       "      <td>4</td>\n",
       "      <td>5</td>\n",
       "      <td>5</td>\n",
       "    </tr>\n",
       "    <tr>\n",
       "      <th>top</th>\n",
       "      <td>2015-01-01</td>\n",
       "      <td>MBC</td>\n",
       "      <td>NaN</td>\n",
       "      <td>CA</td>\n",
       "      <td>85351</td>\n",
       "      <td></td>\n",
       "      <td></td>\n",
       "      <td>1968-01-01</td>\n",
       "      <td>0</td>\n",
       "      <td></td>\n",
       "      <td>...</td>\n",
       "      <td>NaN</td>\n",
       "      <td>NaN</td>\n",
       "      <td>NaN</td>\n",
       "      <td>L</td>\n",
       "      <td>NaN</td>\n",
       "      <td>F</td>\n",
       "      <td>X</td>\n",
       "      <td>X</td>\n",
       "      <td>X</td>\n",
       "      <td>A</td>\n",
       "    </tr>\n",
       "    <tr>\n",
       "      <th>freq</th>\n",
       "      <td>15358</td>\n",
       "      <td>4539</td>\n",
       "      <td>NaN</td>\n",
       "      <td>17343</td>\n",
       "      <td>61</td>\n",
       "      <td>94013</td>\n",
       "      <td>93954</td>\n",
       "      <td>1479</td>\n",
       "      <td>61203</td>\n",
       "      <td>88709</td>\n",
       "      <td>...</td>\n",
       "      <td>NaN</td>\n",
       "      <td>NaN</td>\n",
       "      <td>NaN</td>\n",
       "      <td>95412</td>\n",
       "      <td>NaN</td>\n",
       "      <td>46964</td>\n",
       "      <td>95118</td>\n",
       "      <td>95118</td>\n",
       "      <td>95118</td>\n",
       "      <td>34484</td>\n",
       "    </tr>\n",
       "    <tr>\n",
       "      <th>mean</th>\n",
       "      <td>NaN</td>\n",
       "      <td>NaN</td>\n",
       "      <td>54.223117</td>\n",
       "      <td>NaN</td>\n",
       "      <td>NaN</td>\n",
       "      <td>NaN</td>\n",
       "      <td>NaN</td>\n",
       "      <td>NaN</td>\n",
       "      <td>NaN</td>\n",
       "      <td>NaN</td>\n",
       "      <td>...</td>\n",
       "      <td>13.347786</td>\n",
       "      <td>95778.176959</td>\n",
       "      <td>0.500618</td>\n",
       "      <td>NaN</td>\n",
       "      <td>1.910053</td>\n",
       "      <td>NaN</td>\n",
       "      <td>NaN</td>\n",
       "      <td>NaN</td>\n",
       "      <td>NaN</td>\n",
       "      <td>NaN</td>\n",
       "    </tr>\n",
       "    <tr>\n",
       "      <th>std</th>\n",
       "      <td>NaN</td>\n",
       "      <td>NaN</td>\n",
       "      <td>953.844476</td>\n",
       "      <td>NaN</td>\n",
       "      <td>NaN</td>\n",
       "      <td>NaN</td>\n",
       "      <td>NaN</td>\n",
       "      <td>NaN</td>\n",
       "      <td>NaN</td>\n",
       "      <td>NaN</td>\n",
       "      <td>...</td>\n",
       "      <td>10.769997</td>\n",
       "      <td>55284.596094</td>\n",
       "      <td>0.500002</td>\n",
       "      <td>NaN</td>\n",
       "      <td>1.072749</td>\n",
       "      <td>NaN</td>\n",
       "      <td>NaN</td>\n",
       "      <td>NaN</td>\n",
       "      <td>NaN</td>\n",
       "      <td>NaN</td>\n",
       "    </tr>\n",
       "    <tr>\n",
       "      <th>min</th>\n",
       "      <td>NaN</td>\n",
       "      <td>NaN</td>\n",
       "      <td>0.000000</td>\n",
       "      <td>NaN</td>\n",
       "      <td>NaN</td>\n",
       "      <td>NaN</td>\n",
       "      <td>NaN</td>\n",
       "      <td>NaN</td>\n",
       "      <td>NaN</td>\n",
       "      <td>NaN</td>\n",
       "      <td>...</td>\n",
       "      <td>1.285714</td>\n",
       "      <td>1.000000</td>\n",
       "      <td>0.000000</td>\n",
       "      <td>NaN</td>\n",
       "      <td>1.000000</td>\n",
       "      <td>NaN</td>\n",
       "      <td>NaN</td>\n",
       "      <td>NaN</td>\n",
       "      <td>NaN</td>\n",
       "      <td>NaN</td>\n",
       "    </tr>\n",
       "    <tr>\n",
       "      <th>25%</th>\n",
       "      <td>NaN</td>\n",
       "      <td>NaN</td>\n",
       "      <td>0.000000</td>\n",
       "      <td>NaN</td>\n",
       "      <td>NaN</td>\n",
       "      <td>NaN</td>\n",
       "      <td>NaN</td>\n",
       "      <td>NaN</td>\n",
       "      <td>NaN</td>\n",
       "      <td>NaN</td>\n",
       "      <td>...</td>\n",
       "      <td>8.384615</td>\n",
       "      <td>47910.750000</td>\n",
       "      <td>0.000000</td>\n",
       "      <td>NaN</td>\n",
       "      <td>1.000000</td>\n",
       "      <td>NaN</td>\n",
       "      <td>NaN</td>\n",
       "      <td>NaN</td>\n",
       "      <td>NaN</td>\n",
       "      <td>NaN</td>\n",
       "    </tr>\n",
       "    <tr>\n",
       "      <th>50%</th>\n",
       "      <td>NaN</td>\n",
       "      <td>NaN</td>\n",
       "      <td>1.000000</td>\n",
       "      <td>NaN</td>\n",
       "      <td>NaN</td>\n",
       "      <td>NaN</td>\n",
       "      <td>NaN</td>\n",
       "      <td>NaN</td>\n",
       "      <td>NaN</td>\n",
       "      <td>NaN</td>\n",
       "      <td>...</td>\n",
       "      <td>11.636364</td>\n",
       "      <td>95681.500000</td>\n",
       "      <td>1.000000</td>\n",
       "      <td>NaN</td>\n",
       "      <td>2.000000</td>\n",
       "      <td>NaN</td>\n",
       "      <td>NaN</td>\n",
       "      <td>NaN</td>\n",
       "      <td>NaN</td>\n",
       "      <td>NaN</td>\n",
       "    </tr>\n",
       "    <tr>\n",
       "      <th>75%</th>\n",
       "      <td>NaN</td>\n",
       "      <td>NaN</td>\n",
       "      <td>2.000000</td>\n",
       "      <td>NaN</td>\n",
       "      <td>NaN</td>\n",
       "      <td>NaN</td>\n",
       "      <td>NaN</td>\n",
       "      <td>NaN</td>\n",
       "      <td>NaN</td>\n",
       "      <td>NaN</td>\n",
       "      <td>...</td>\n",
       "      <td>15.477955</td>\n",
       "      <td>143643.500000</td>\n",
       "      <td>1.000000</td>\n",
       "      <td>NaN</td>\n",
       "      <td>3.000000</td>\n",
       "      <td>NaN</td>\n",
       "      <td>NaN</td>\n",
       "      <td>NaN</td>\n",
       "      <td>NaN</td>\n",
       "      <td>NaN</td>\n",
       "    </tr>\n",
       "    <tr>\n",
       "      <th>max</th>\n",
       "      <td>NaN</td>\n",
       "      <td>NaN</td>\n",
       "      <td>72002.000000</td>\n",
       "      <td>NaN</td>\n",
       "      <td>NaN</td>\n",
       "      <td>NaN</td>\n",
       "      <td>NaN</td>\n",
       "      <td>NaN</td>\n",
       "      <td>NaN</td>\n",
       "      <td>NaN</td>\n",
       "      <td>...</td>\n",
       "      <td>1000.000000</td>\n",
       "      <td>191779.000000</td>\n",
       "      <td>1.000000</td>\n",
       "      <td>NaN</td>\n",
       "      <td>4.000000</td>\n",
       "      <td>NaN</td>\n",
       "      <td>NaN</td>\n",
       "      <td>NaN</td>\n",
       "      <td>NaN</td>\n",
       "      <td>NaN</td>\n",
       "    </tr>\n",
       "  </tbody>\n",
       "</table>\n",
       "<p>11 rows × 475 columns</p>\n",
       "</div>"
      ],
      "text/plain": [
       "           ODATEDW OSOURCE         TCODE  STATE    ZIP MAILCODE PVASTATE  \\\n",
       "count        95412   95412  95412.000000  95412  95412    95412    95412   \n",
       "unique          54     896           NaN     57  19938        2        3   \n",
       "top     2015-01-01     MBC           NaN     CA  85351                     \n",
       "freq         15358    4539           NaN  17343     61    94013    93954   \n",
       "mean           NaN     NaN     54.223117    NaN    NaN      NaN      NaN   \n",
       "std            NaN     NaN    953.844476    NaN    NaN      NaN      NaN   \n",
       "min            NaN     NaN      0.000000    NaN    NaN      NaN      NaN   \n",
       "25%            NaN     NaN      0.000000    NaN    NaN      NaN      NaN   \n",
       "50%            NaN     NaN      1.000000    NaN    NaN      NaN      NaN   \n",
       "75%            NaN     NaN      2.000000    NaN    NaN      NaN      NaN   \n",
       "max            NaN     NaN  72002.000000    NaN    NaN      NaN      NaN   \n",
       "\n",
       "               DOB NOEXCH RECINHSE  ...       AVGGIFT       CONTROLN  \\\n",
       "count        71529  95412    95412  ...  95412.000000   95412.000000   \n",
       "unique         847      6        2  ...           NaN            NaN   \n",
       "top     1968-01-01      0           ...           NaN            NaN   \n",
       "freq          1479  61203    88709  ...           NaN            NaN   \n",
       "mean           NaN    NaN      NaN  ...     13.347786   95778.176959   \n",
       "std            NaN    NaN      NaN  ...     10.769997   55284.596094   \n",
       "min            NaN    NaN      NaN  ...      1.285714       1.000000   \n",
       "25%            NaN    NaN      NaN  ...      8.384615   47910.750000   \n",
       "50%            NaN    NaN      NaN  ...     11.636364   95681.500000   \n",
       "75%            NaN    NaN      NaN  ...     15.477955  143643.500000   \n",
       "max            NaN    NaN      NaN  ...   1000.000000  191779.000000   \n",
       "\n",
       "            HPHONE_D RFA_2R        RFA_2F RFA_2A MDMAUD_R MDMAUD_F MDMAUD_A  \\\n",
       "count   95412.000000  95412  95412.000000  95412    95412    95412    95412   \n",
       "unique           NaN      1           NaN      4        5        4        5   \n",
       "top              NaN      L           NaN      F        X        X        X   \n",
       "freq             NaN  95412           NaN  46964    95118    95118    95118   \n",
       "mean        0.500618    NaN      1.910053    NaN      NaN      NaN      NaN   \n",
       "std         0.500002    NaN      1.072749    NaN      NaN      NaN      NaN   \n",
       "min         0.000000    NaN      1.000000    NaN      NaN      NaN      NaN   \n",
       "25%         0.000000    NaN      1.000000    NaN      NaN      NaN      NaN   \n",
       "50%         1.000000    NaN      2.000000    NaN      NaN      NaN      NaN   \n",
       "75%         1.000000    NaN      3.000000    NaN      NaN      NaN      NaN   \n",
       "max         1.000000    NaN      4.000000    NaN      NaN      NaN      NaN   \n",
       "\n",
       "       GEOCODE2  \n",
       "count     95280  \n",
       "unique        5  \n",
       "top           A  \n",
       "freq      34484  \n",
       "mean        NaN  \n",
       "std         NaN  \n",
       "min         NaN  \n",
       "25%         NaN  \n",
       "50%         NaN  \n",
       "75%         NaN  \n",
       "max         NaN  \n",
       "\n",
       "[11 rows x 475 columns]"
      ]
     },
     "execution_count": 10,
     "metadata": {},
     "output_type": "execute_result"
    }
   ],
   "source": [
    "donors.describe(include=\"all\")"
   ]
  },
  {
   "cell_type": "code",
   "execution_count": 11,
   "metadata": {},
   "outputs": [
    {
     "data": {
      "text/html": [
       "<div>\n",
       "<style scoped>\n",
       "    .dataframe tbody tr th:only-of-type {\n",
       "        vertical-align: middle;\n",
       "    }\n",
       "\n",
       "    .dataframe tbody tr th {\n",
       "        vertical-align: top;\n",
       "    }\n",
       "\n",
       "    .dataframe thead th {\n",
       "        text-align: right;\n",
       "    }\n",
       "</style>\n",
       "<table border=\"1\" class=\"dataframe\">\n",
       "  <thead>\n",
       "    <tr style=\"text-align: right;\">\n",
       "      <th></th>\n",
       "      <th>ODATEDW</th>\n",
       "      <th>OSOURCE</th>\n",
       "      <th>TCODE</th>\n",
       "      <th>STATE</th>\n",
       "      <th>ZIP</th>\n",
       "      <th>MAILCODE</th>\n",
       "      <th>PVASTATE</th>\n",
       "      <th>DOB</th>\n",
       "      <th>NOEXCH</th>\n",
       "      <th>RECINHSE</th>\n",
       "      <th>...</th>\n",
       "      <th>AVGGIFT</th>\n",
       "      <th>CONTROLN</th>\n",
       "      <th>HPHONE_D</th>\n",
       "      <th>RFA_2R</th>\n",
       "      <th>RFA_2F</th>\n",
       "      <th>RFA_2A</th>\n",
       "      <th>MDMAUD_R</th>\n",
       "      <th>MDMAUD_F</th>\n",
       "      <th>MDMAUD_A</th>\n",
       "      <th>GEOCODE2</th>\n",
       "    </tr>\n",
       "  </thead>\n",
       "  <tbody>\n",
       "    <tr>\n",
       "      <th>0</th>\n",
       "      <td>2009-01-01</td>\n",
       "      <td>GRI</td>\n",
       "      <td>0</td>\n",
       "      <td>IL</td>\n",
       "      <td>61081</td>\n",
       "      <td></td>\n",
       "      <td></td>\n",
       "      <td>1957-12-01</td>\n",
       "      <td>0</td>\n",
       "      <td></td>\n",
       "      <td>...</td>\n",
       "      <td>7.741935</td>\n",
       "      <td>95515</td>\n",
       "      <td>0</td>\n",
       "      <td>L</td>\n",
       "      <td>4</td>\n",
       "      <td>E</td>\n",
       "      <td>X</td>\n",
       "      <td>X</td>\n",
       "      <td>X</td>\n",
       "      <td>C</td>\n",
       "    </tr>\n",
       "    <tr>\n",
       "      <th>1</th>\n",
       "      <td>2014-01-01</td>\n",
       "      <td>BOA</td>\n",
       "      <td>1</td>\n",
       "      <td>CA</td>\n",
       "      <td>91326</td>\n",
       "      <td></td>\n",
       "      <td></td>\n",
       "      <td>1972-02-01</td>\n",
       "      <td>0</td>\n",
       "      <td></td>\n",
       "      <td>...</td>\n",
       "      <td>15.666667</td>\n",
       "      <td>148535</td>\n",
       "      <td>0</td>\n",
       "      <td>L</td>\n",
       "      <td>2</td>\n",
       "      <td>G</td>\n",
       "      <td>X</td>\n",
       "      <td>X</td>\n",
       "      <td>X</td>\n",
       "      <td>A</td>\n",
       "    </tr>\n",
       "    <tr>\n",
       "      <th>2</th>\n",
       "      <td>2010-01-01</td>\n",
       "      <td>AMH</td>\n",
       "      <td>1</td>\n",
       "      <td>NC</td>\n",
       "      <td>27017</td>\n",
       "      <td></td>\n",
       "      <td></td>\n",
       "      <td>NaN</td>\n",
       "      <td>0</td>\n",
       "      <td></td>\n",
       "      <td>...</td>\n",
       "      <td>7.481481</td>\n",
       "      <td>15078</td>\n",
       "      <td>1</td>\n",
       "      <td>L</td>\n",
       "      <td>4</td>\n",
       "      <td>E</td>\n",
       "      <td>X</td>\n",
       "      <td>X</td>\n",
       "      <td>X</td>\n",
       "      <td>C</td>\n",
       "    </tr>\n",
       "    <tr>\n",
       "      <th>3</th>\n",
       "      <td>2007-01-01</td>\n",
       "      <td>BRY</td>\n",
       "      <td>0</td>\n",
       "      <td>CA</td>\n",
       "      <td>95953</td>\n",
       "      <td></td>\n",
       "      <td></td>\n",
       "      <td>1948-01-01</td>\n",
       "      <td>0</td>\n",
       "      <td></td>\n",
       "      <td>...</td>\n",
       "      <td>6.812500</td>\n",
       "      <td>172556</td>\n",
       "      <td>1</td>\n",
       "      <td>L</td>\n",
       "      <td>4</td>\n",
       "      <td>E</td>\n",
       "      <td>X</td>\n",
       "      <td>X</td>\n",
       "      <td>X</td>\n",
       "      <td>C</td>\n",
       "    </tr>\n",
       "    <tr>\n",
       "      <th>4</th>\n",
       "      <td>2006-01-01</td>\n",
       "      <td></td>\n",
       "      <td>0</td>\n",
       "      <td>FL</td>\n",
       "      <td>33176</td>\n",
       "      <td></td>\n",
       "      <td></td>\n",
       "      <td>1940-01-01</td>\n",
       "      <td>0</td>\n",
       "      <td>X</td>\n",
       "      <td>...</td>\n",
       "      <td>6.864865</td>\n",
       "      <td>7112</td>\n",
       "      <td>1</td>\n",
       "      <td>L</td>\n",
       "      <td>2</td>\n",
       "      <td>F</td>\n",
       "      <td>X</td>\n",
       "      <td>X</td>\n",
       "      <td>X</td>\n",
       "      <td>A</td>\n",
       "    </tr>\n",
       "    <tr>\n",
       "      <th>...</th>\n",
       "      <td>...</td>\n",
       "      <td>...</td>\n",
       "      <td>...</td>\n",
       "      <td>...</td>\n",
       "      <td>...</td>\n",
       "      <td>...</td>\n",
       "      <td>...</td>\n",
       "      <td>...</td>\n",
       "      <td>...</td>\n",
       "      <td>...</td>\n",
       "      <td>...</td>\n",
       "      <td>...</td>\n",
       "      <td>...</td>\n",
       "      <td>...</td>\n",
       "      <td>...</td>\n",
       "      <td>...</td>\n",
       "      <td>...</td>\n",
       "      <td>...</td>\n",
       "      <td>...</td>\n",
       "      <td>...</td>\n",
       "      <td>...</td>\n",
       "    </tr>\n",
       "    <tr>\n",
       "      <th>95407</th>\n",
       "      <td>2016-01-01</td>\n",
       "      <td>ASE</td>\n",
       "      <td>1</td>\n",
       "      <td>AK</td>\n",
       "      <td>99504</td>\n",
       "      <td></td>\n",
       "      <td></td>\n",
       "      <td>NaN</td>\n",
       "      <td>0</td>\n",
       "      <td></td>\n",
       "      <td>...</td>\n",
       "      <td>25.000000</td>\n",
       "      <td>184568</td>\n",
       "      <td>0</td>\n",
       "      <td>L</td>\n",
       "      <td>1</td>\n",
       "      <td>G</td>\n",
       "      <td>X</td>\n",
       "      <td>X</td>\n",
       "      <td>X</td>\n",
       "      <td>C</td>\n",
       "    </tr>\n",
       "    <tr>\n",
       "      <th>95408</th>\n",
       "      <td>2016-01-01</td>\n",
       "      <td>DCD</td>\n",
       "      <td>1</td>\n",
       "      <td>TX</td>\n",
       "      <td>77379</td>\n",
       "      <td></td>\n",
       "      <td></td>\n",
       "      <td>1970-01-01</td>\n",
       "      <td>0</td>\n",
       "      <td></td>\n",
       "      <td>...</td>\n",
       "      <td>20.000000</td>\n",
       "      <td>122706</td>\n",
       "      <td>1</td>\n",
       "      <td>L</td>\n",
       "      <td>1</td>\n",
       "      <td>F</td>\n",
       "      <td>X</td>\n",
       "      <td>X</td>\n",
       "      <td>X</td>\n",
       "      <td>A</td>\n",
       "    </tr>\n",
       "    <tr>\n",
       "      <th>95409</th>\n",
       "      <td>2015-01-01</td>\n",
       "      <td>MBC</td>\n",
       "      <td>1</td>\n",
       "      <td>MI</td>\n",
       "      <td>48910</td>\n",
       "      <td></td>\n",
       "      <td></td>\n",
       "      <td>1958-01-01</td>\n",
       "      <td>0</td>\n",
       "      <td></td>\n",
       "      <td>...</td>\n",
       "      <td>8.285714</td>\n",
       "      <td>189641</td>\n",
       "      <td>1</td>\n",
       "      <td>L</td>\n",
       "      <td>3</td>\n",
       "      <td>E</td>\n",
       "      <td>X</td>\n",
       "      <td>X</td>\n",
       "      <td>X</td>\n",
       "      <td>B</td>\n",
       "    </tr>\n",
       "    <tr>\n",
       "      <th>95410</th>\n",
       "      <td>2006-01-01</td>\n",
       "      <td>PRV</td>\n",
       "      <td>0</td>\n",
       "      <td>CA</td>\n",
       "      <td>91320</td>\n",
       "      <td></td>\n",
       "      <td></td>\n",
       "      <td>1960-05-01</td>\n",
       "      <td>0</td>\n",
       "      <td>X</td>\n",
       "      <td>...</td>\n",
       "      <td>12.146341</td>\n",
       "      <td>4693</td>\n",
       "      <td>1</td>\n",
       "      <td>L</td>\n",
       "      <td>4</td>\n",
       "      <td>F</td>\n",
       "      <td>X</td>\n",
       "      <td>X</td>\n",
       "      <td>X</td>\n",
       "      <td>A</td>\n",
       "    </tr>\n",
       "    <tr>\n",
       "      <th>95411</th>\n",
       "      <td>2008-01-01</td>\n",
       "      <td>MCC</td>\n",
       "      <td>2</td>\n",
       "      <td>NC</td>\n",
       "      <td>28409</td>\n",
       "      <td></td>\n",
       "      <td></td>\n",
       "      <td>1938-01-01</td>\n",
       "      <td>0</td>\n",
       "      <td>X</td>\n",
       "      <td>...</td>\n",
       "      <td>96.794872</td>\n",
       "      <td>185114</td>\n",
       "      <td>1</td>\n",
       "      <td>L</td>\n",
       "      <td>1</td>\n",
       "      <td>G</td>\n",
       "      <td>C</td>\n",
       "      <td>1</td>\n",
       "      <td>C</td>\n",
       "      <td>C</td>\n",
       "    </tr>\n",
       "  </tbody>\n",
       "</table>\n",
       "<p>95412 rows × 475 columns</p>\n",
       "</div>"
      ],
      "text/plain": [
       "          ODATEDW OSOURCE  TCODE STATE    ZIP MAILCODE PVASTATE         DOB  \\\n",
       "0      2009-01-01     GRI      0    IL  61081                    1957-12-01   \n",
       "1      2014-01-01     BOA      1    CA  91326                    1972-02-01   \n",
       "2      2010-01-01     AMH      1    NC  27017                           NaN   \n",
       "3      2007-01-01     BRY      0    CA  95953                    1948-01-01   \n",
       "4      2006-01-01              0    FL  33176                    1940-01-01   \n",
       "...           ...     ...    ...   ...    ...      ...      ...         ...   \n",
       "95407  2016-01-01     ASE      1    AK  99504                           NaN   \n",
       "95408  2016-01-01     DCD      1    TX  77379                    1970-01-01   \n",
       "95409  2015-01-01     MBC      1    MI  48910                    1958-01-01   \n",
       "95410  2006-01-01     PRV      0    CA  91320                    1960-05-01   \n",
       "95411  2008-01-01     MCC      2    NC  28409                    1938-01-01   \n",
       "\n",
       "      NOEXCH RECINHSE  ...    AVGGIFT CONTROLN HPHONE_D RFA_2R RFA_2F RFA_2A  \\\n",
       "0          0           ...   7.741935    95515        0      L      4      E   \n",
       "1          0           ...  15.666667   148535        0      L      2      G   \n",
       "2          0           ...   7.481481    15078        1      L      4      E   \n",
       "3          0           ...   6.812500   172556        1      L      4      E   \n",
       "4          0        X  ...   6.864865     7112        1      L      2      F   \n",
       "...      ...      ...  ...        ...      ...      ...    ...    ...    ...   \n",
       "95407      0           ...  25.000000   184568        0      L      1      G   \n",
       "95408      0           ...  20.000000   122706        1      L      1      F   \n",
       "95409      0           ...   8.285714   189641        1      L      3      E   \n",
       "95410      0        X  ...  12.146341     4693        1      L      4      F   \n",
       "95411      0        X  ...  96.794872   185114        1      L      1      G   \n",
       "\n",
       "      MDMAUD_R MDMAUD_F MDMAUD_A GEOCODE2  \n",
       "0            X        X        X        C  \n",
       "1            X        X        X        A  \n",
       "2            X        X        X        C  \n",
       "3            X        X        X        C  \n",
       "4            X        X        X        A  \n",
       "...        ...      ...      ...      ...  \n",
       "95407        X        X        X        C  \n",
       "95408        X        X        X        A  \n",
       "95409        X        X        X        B  \n",
       "95410        X        X        X        A  \n",
       "95411        C        1        C        C  \n",
       "\n",
       "[95412 rows x 475 columns]"
      ]
     },
     "execution_count": 11,
     "metadata": {},
     "output_type": "execute_result"
    }
   ],
   "source": [
    "donors.copy()"
   ]
  },
  {
   "cell_type": "code",
   "execution_count": 12,
   "metadata": {},
   "outputs": [
    {
     "name": "stdout",
     "output_type": "stream",
     "text": [
      "\n",
      "Note: you may need to restart the kernel to use updated packages.\n"
     ]
    }
   ],
   "source": [
    "conda activate MiningProject"
   ]
  },
  {
   "cell_type": "code",
   "execution_count": 13,
   "metadata": {},
   "outputs": [
    {
     "name": "stdout",
     "output_type": "stream",
     "text": [
      "\n",
      "Note: you may need to restart the kernel to use updated packages.\n"
     ]
    }
   ],
   "source": [
    "conda env export > MiningProject.yml"
   ]
  },
  {
   "cell_type": "code",
   "execution_count": 14,
   "metadata": {},
   "outputs": [
    {
     "data": {
      "text/html": [
       "<div>\n",
       "<style scoped>\n",
       "    .dataframe tbody tr th:only-of-type {\n",
       "        vertical-align: middle;\n",
       "    }\n",
       "\n",
       "    .dataframe tbody tr th {\n",
       "        vertical-align: top;\n",
       "    }\n",
       "\n",
       "    .dataframe thead th {\n",
       "        text-align: right;\n",
       "    }\n",
       "</style>\n",
       "<table border=\"1\" class=\"dataframe\">\n",
       "  <thead>\n",
       "    <tr style=\"text-align: right;\">\n",
       "      <th></th>\n",
       "      <th>ODATEDW</th>\n",
       "      <th>OSOURCE</th>\n",
       "      <th>TCODE</th>\n",
       "      <th>STATE</th>\n",
       "      <th>ZIP</th>\n",
       "      <th>MAILCODE</th>\n",
       "      <th>PVASTATE</th>\n",
       "      <th>DOB</th>\n",
       "      <th>NOEXCH</th>\n",
       "      <th>RECINHSE</th>\n",
       "      <th>...</th>\n",
       "      <th>AVGGIFT</th>\n",
       "      <th>CONTROLN</th>\n",
       "      <th>HPHONE_D</th>\n",
       "      <th>RFA_2R</th>\n",
       "      <th>RFA_2F</th>\n",
       "      <th>RFA_2A</th>\n",
       "      <th>MDMAUD_R</th>\n",
       "      <th>MDMAUD_F</th>\n",
       "      <th>MDMAUD_A</th>\n",
       "      <th>GEOCODE2</th>\n",
       "    </tr>\n",
       "  </thead>\n",
       "  <tbody>\n",
       "    <tr>\n",
       "      <th>0</th>\n",
       "      <td>2009-01-01</td>\n",
       "      <td>GRI</td>\n",
       "      <td>0</td>\n",
       "      <td>IL</td>\n",
       "      <td>61081</td>\n",
       "      <td></td>\n",
       "      <td></td>\n",
       "      <td>1957-12-01</td>\n",
       "      <td>0</td>\n",
       "      <td></td>\n",
       "      <td>...</td>\n",
       "      <td>7.741935</td>\n",
       "      <td>95515</td>\n",
       "      <td>0</td>\n",
       "      <td>L</td>\n",
       "      <td>4</td>\n",
       "      <td>E</td>\n",
       "      <td>X</td>\n",
       "      <td>X</td>\n",
       "      <td>X</td>\n",
       "      <td>C</td>\n",
       "    </tr>\n",
       "    <tr>\n",
       "      <th>1</th>\n",
       "      <td>2014-01-01</td>\n",
       "      <td>BOA</td>\n",
       "      <td>1</td>\n",
       "      <td>CA</td>\n",
       "      <td>91326</td>\n",
       "      <td></td>\n",
       "      <td></td>\n",
       "      <td>1972-02-01</td>\n",
       "      <td>0</td>\n",
       "      <td></td>\n",
       "      <td>...</td>\n",
       "      <td>15.666667</td>\n",
       "      <td>148535</td>\n",
       "      <td>0</td>\n",
       "      <td>L</td>\n",
       "      <td>2</td>\n",
       "      <td>G</td>\n",
       "      <td>X</td>\n",
       "      <td>X</td>\n",
       "      <td>X</td>\n",
       "      <td>A</td>\n",
       "    </tr>\n",
       "    <tr>\n",
       "      <th>2</th>\n",
       "      <td>2010-01-01</td>\n",
       "      <td>AMH</td>\n",
       "      <td>1</td>\n",
       "      <td>NC</td>\n",
       "      <td>27017</td>\n",
       "      <td></td>\n",
       "      <td></td>\n",
       "      <td>NaN</td>\n",
       "      <td>0</td>\n",
       "      <td></td>\n",
       "      <td>...</td>\n",
       "      <td>7.481481</td>\n",
       "      <td>15078</td>\n",
       "      <td>1</td>\n",
       "      <td>L</td>\n",
       "      <td>4</td>\n",
       "      <td>E</td>\n",
       "      <td>X</td>\n",
       "      <td>X</td>\n",
       "      <td>X</td>\n",
       "      <td>C</td>\n",
       "    </tr>\n",
       "    <tr>\n",
       "      <th>3</th>\n",
       "      <td>2007-01-01</td>\n",
       "      <td>BRY</td>\n",
       "      <td>0</td>\n",
       "      <td>CA</td>\n",
       "      <td>95953</td>\n",
       "      <td></td>\n",
       "      <td></td>\n",
       "      <td>1948-01-01</td>\n",
       "      <td>0</td>\n",
       "      <td></td>\n",
       "      <td>...</td>\n",
       "      <td>6.812500</td>\n",
       "      <td>172556</td>\n",
       "      <td>1</td>\n",
       "      <td>L</td>\n",
       "      <td>4</td>\n",
       "      <td>E</td>\n",
       "      <td>X</td>\n",
       "      <td>X</td>\n",
       "      <td>X</td>\n",
       "      <td>C</td>\n",
       "    </tr>\n",
       "    <tr>\n",
       "      <th>4</th>\n",
       "      <td>2006-01-01</td>\n",
       "      <td></td>\n",
       "      <td>0</td>\n",
       "      <td>FL</td>\n",
       "      <td>33176</td>\n",
       "      <td></td>\n",
       "      <td></td>\n",
       "      <td>1940-01-01</td>\n",
       "      <td>0</td>\n",
       "      <td>X</td>\n",
       "      <td>...</td>\n",
       "      <td>6.864865</td>\n",
       "      <td>7112</td>\n",
       "      <td>1</td>\n",
       "      <td>L</td>\n",
       "      <td>2</td>\n",
       "      <td>F</td>\n",
       "      <td>X</td>\n",
       "      <td>X</td>\n",
       "      <td>X</td>\n",
       "      <td>A</td>\n",
       "    </tr>\n",
       "    <tr>\n",
       "      <th>...</th>\n",
       "      <td>...</td>\n",
       "      <td>...</td>\n",
       "      <td>...</td>\n",
       "      <td>...</td>\n",
       "      <td>...</td>\n",
       "      <td>...</td>\n",
       "      <td>...</td>\n",
       "      <td>...</td>\n",
       "      <td>...</td>\n",
       "      <td>...</td>\n",
       "      <td>...</td>\n",
       "      <td>...</td>\n",
       "      <td>...</td>\n",
       "      <td>...</td>\n",
       "      <td>...</td>\n",
       "      <td>...</td>\n",
       "      <td>...</td>\n",
       "      <td>...</td>\n",
       "      <td>...</td>\n",
       "      <td>...</td>\n",
       "      <td>...</td>\n",
       "    </tr>\n",
       "    <tr>\n",
       "      <th>95407</th>\n",
       "      <td>2016-01-01</td>\n",
       "      <td>ASE</td>\n",
       "      <td>1</td>\n",
       "      <td>AK</td>\n",
       "      <td>99504</td>\n",
       "      <td></td>\n",
       "      <td></td>\n",
       "      <td>NaN</td>\n",
       "      <td>0</td>\n",
       "      <td></td>\n",
       "      <td>...</td>\n",
       "      <td>25.000000</td>\n",
       "      <td>184568</td>\n",
       "      <td>0</td>\n",
       "      <td>L</td>\n",
       "      <td>1</td>\n",
       "      <td>G</td>\n",
       "      <td>X</td>\n",
       "      <td>X</td>\n",
       "      <td>X</td>\n",
       "      <td>C</td>\n",
       "    </tr>\n",
       "    <tr>\n",
       "      <th>95408</th>\n",
       "      <td>2016-01-01</td>\n",
       "      <td>DCD</td>\n",
       "      <td>1</td>\n",
       "      <td>TX</td>\n",
       "      <td>77379</td>\n",
       "      <td></td>\n",
       "      <td></td>\n",
       "      <td>1970-01-01</td>\n",
       "      <td>0</td>\n",
       "      <td></td>\n",
       "      <td>...</td>\n",
       "      <td>20.000000</td>\n",
       "      <td>122706</td>\n",
       "      <td>1</td>\n",
       "      <td>L</td>\n",
       "      <td>1</td>\n",
       "      <td>F</td>\n",
       "      <td>X</td>\n",
       "      <td>X</td>\n",
       "      <td>X</td>\n",
       "      <td>A</td>\n",
       "    </tr>\n",
       "    <tr>\n",
       "      <th>95409</th>\n",
       "      <td>2015-01-01</td>\n",
       "      <td>MBC</td>\n",
       "      <td>1</td>\n",
       "      <td>MI</td>\n",
       "      <td>48910</td>\n",
       "      <td></td>\n",
       "      <td></td>\n",
       "      <td>1958-01-01</td>\n",
       "      <td>0</td>\n",
       "      <td></td>\n",
       "      <td>...</td>\n",
       "      <td>8.285714</td>\n",
       "      <td>189641</td>\n",
       "      <td>1</td>\n",
       "      <td>L</td>\n",
       "      <td>3</td>\n",
       "      <td>E</td>\n",
       "      <td>X</td>\n",
       "      <td>X</td>\n",
       "      <td>X</td>\n",
       "      <td>B</td>\n",
       "    </tr>\n",
       "    <tr>\n",
       "      <th>95410</th>\n",
       "      <td>2006-01-01</td>\n",
       "      <td>PRV</td>\n",
       "      <td>0</td>\n",
       "      <td>CA</td>\n",
       "      <td>91320</td>\n",
       "      <td></td>\n",
       "      <td></td>\n",
       "      <td>1960-05-01</td>\n",
       "      <td>0</td>\n",
       "      <td>X</td>\n",
       "      <td>...</td>\n",
       "      <td>12.146341</td>\n",
       "      <td>4693</td>\n",
       "      <td>1</td>\n",
       "      <td>L</td>\n",
       "      <td>4</td>\n",
       "      <td>F</td>\n",
       "      <td>X</td>\n",
       "      <td>X</td>\n",
       "      <td>X</td>\n",
       "      <td>A</td>\n",
       "    </tr>\n",
       "    <tr>\n",
       "      <th>95411</th>\n",
       "      <td>2008-01-01</td>\n",
       "      <td>MCC</td>\n",
       "      <td>2</td>\n",
       "      <td>NC</td>\n",
       "      <td>28409</td>\n",
       "      <td></td>\n",
       "      <td></td>\n",
       "      <td>1938-01-01</td>\n",
       "      <td>0</td>\n",
       "      <td>X</td>\n",
       "      <td>...</td>\n",
       "      <td>96.794872</td>\n",
       "      <td>185114</td>\n",
       "      <td>1</td>\n",
       "      <td>L</td>\n",
       "      <td>1</td>\n",
       "      <td>G</td>\n",
       "      <td>C</td>\n",
       "      <td>1</td>\n",
       "      <td>C</td>\n",
       "      <td>C</td>\n",
       "    </tr>\n",
       "  </tbody>\n",
       "</table>\n",
       "<p>95412 rows × 475 columns</p>\n",
       "</div>"
      ],
      "text/plain": [
       "          ODATEDW OSOURCE  TCODE STATE    ZIP MAILCODE PVASTATE         DOB  \\\n",
       "0      2009-01-01     GRI      0    IL  61081                    1957-12-01   \n",
       "1      2014-01-01     BOA      1    CA  91326                    1972-02-01   \n",
       "2      2010-01-01     AMH      1    NC  27017                           NaN   \n",
       "3      2007-01-01     BRY      0    CA  95953                    1948-01-01   \n",
       "4      2006-01-01              0    FL  33176                    1940-01-01   \n",
       "...           ...     ...    ...   ...    ...      ...      ...         ...   \n",
       "95407  2016-01-01     ASE      1    AK  99504                           NaN   \n",
       "95408  2016-01-01     DCD      1    TX  77379                    1970-01-01   \n",
       "95409  2015-01-01     MBC      1    MI  48910                    1958-01-01   \n",
       "95410  2006-01-01     PRV      0    CA  91320                    1960-05-01   \n",
       "95411  2008-01-01     MCC      2    NC  28409                    1938-01-01   \n",
       "\n",
       "      NOEXCH RECINHSE  ...    AVGGIFT CONTROLN HPHONE_D RFA_2R RFA_2F RFA_2A  \\\n",
       "0          0           ...   7.741935    95515        0      L      4      E   \n",
       "1          0           ...  15.666667   148535        0      L      2      G   \n",
       "2          0           ...   7.481481    15078        1      L      4      E   \n",
       "3          0           ...   6.812500   172556        1      L      4      E   \n",
       "4          0        X  ...   6.864865     7112        1      L      2      F   \n",
       "...      ...      ...  ...        ...      ...      ...    ...    ...    ...   \n",
       "95407      0           ...  25.000000   184568        0      L      1      G   \n",
       "95408      0           ...  20.000000   122706        1      L      1      F   \n",
       "95409      0           ...   8.285714   189641        1      L      3      E   \n",
       "95410      0        X  ...  12.146341     4693        1      L      4      F   \n",
       "95411      0        X  ...  96.794872   185114        1      L      1      G   \n",
       "\n",
       "      MDMAUD_R MDMAUD_F MDMAUD_A GEOCODE2  \n",
       "0            X        X        X        C  \n",
       "1            X        X        X        A  \n",
       "2            X        X        X        C  \n",
       "3            X        X        X        C  \n",
       "4            X        X        X        A  \n",
       "...        ...      ...      ...      ...  \n",
       "95407        X        X        X        C  \n",
       "95408        X        X        X        A  \n",
       "95409        X        X        X        B  \n",
       "95410        X        X        X        A  \n",
       "95411        C        1        C        C  \n",
       "\n",
       "[95412 rows x 475 columns]"
      ]
     },
     "execution_count": 14,
     "metadata": {},
     "output_type": "execute_result"
    }
   ],
   "source": [
    "my_project = donors.copy()\n",
    "my_project"
   ]
  },
  {
   "cell_type": "code",
   "execution_count": 15,
   "metadata": {
    "scrolled": false
   },
   "outputs": [],
   "source": [
    "#This will be like ordinal encoding\n",
    "#The following line of code will substitute the letters under the column CHILD03 by the correspondent numbers\n",
    "my_project.replace({\"CHILD03\": {\"B\":2,\"M\":1,\"F\": 1,\" \":0}}, inplace=True)\n",
    "\n"
   ]
  },
  {
   "cell_type": "code",
   "execution_count": 16,
   "metadata": {},
   "outputs": [
    {
     "data": {
      "text/plain": [
       "array([0, 1, 2], dtype=int64)"
      ]
     },
     "execution_count": 16,
     "metadata": {},
     "output_type": "execute_result"
    }
   ],
   "source": [
    "my_project[\"CHILD03\"].unique()"
   ]
  },
  {
   "cell_type": "code",
   "execution_count": 17,
   "metadata": {},
   "outputs": [],
   "source": [
    "#The following line of code will substitute the letters under the column CHILD07 by the correspondent numbers\n",
    "my_project.replace({\"CHILD07\": {\"B\":2,\"M\":1,\"F\": 1,\" \":0}}, inplace=True)"
   ]
  },
  {
   "cell_type": "code",
   "execution_count": 18,
   "metadata": {},
   "outputs": [
    {
     "data": {
      "text/plain": [
       "array([0, 1, 2], dtype=int64)"
      ]
     },
     "execution_count": 18,
     "metadata": {},
     "output_type": "execute_result"
    }
   ],
   "source": [
    "my_project[\"CHILD07\"].unique()"
   ]
  },
  {
   "cell_type": "code",
   "execution_count": 19,
   "metadata": {},
   "outputs": [],
   "source": [
    "#The following line of code will substitute the letters under the column CHILD12 by the correspondent numbers\n",
    "my_project.replace({\"CHILD12\": {\"B\":2,\"M\":1,\"F\": 1,\" \":0}}, inplace=True)"
   ]
  },
  {
   "cell_type": "code",
   "execution_count": 20,
   "metadata": {},
   "outputs": [
    {
     "data": {
      "text/plain": [
       "array([0, 1, 2], dtype=int64)"
      ]
     },
     "execution_count": 20,
     "metadata": {},
     "output_type": "execute_result"
    }
   ],
   "source": [
    "my_project[\"CHILD12\"].unique()"
   ]
  },
  {
   "cell_type": "code",
   "execution_count": 21,
   "metadata": {},
   "outputs": [],
   "source": [
    "#The following line of code will substitute the letters under the column CHILD18 by the correspondent numbers\n",
    "my_project.replace({\"CHILD18\": {\"B\":2,\"M\":1,\"F\": 1,\" \":0}}, inplace=True)"
   ]
  },
  {
   "cell_type": "code",
   "execution_count": 22,
   "metadata": {},
   "outputs": [
    {
     "data": {
      "text/plain": [
       "array([0, 1, 2], dtype=int64)"
      ]
     },
     "execution_count": 22,
     "metadata": {},
     "output_type": "execute_result"
    }
   ],
   "source": [
    "my_project[\"CHILD18\"].unique()"
   ]
  },
  {
   "cell_type": "code",
   "execution_count": 23,
   "metadata": {},
   "outputs": [
    {
     "data": {
      "text/plain": [
       "dtype('int64')"
      ]
     },
     "execution_count": 23,
     "metadata": {},
     "output_type": "execute_result"
    }
   ],
   "source": [
    "my_project[\"CHILD18\"].dtypes"
   ]
  },
  {
   "cell_type": "code",
   "execution_count": 180,
   "metadata": {},
   "outputs": [
    {
     "data": {
      "text/plain": [
       "dtype('float64')"
      ]
     },
     "execution_count": 180,
     "metadata": {},
     "output_type": "execute_result"
    }
   ],
   "source": [
    "my_project[\"NUMCHLD\"].dtypes"
   ]
  },
  {
   "cell_type": "code",
   "execution_count": 24,
   "metadata": {},
   "outputs": [
    {
     "data": {
      "text/plain": [
       "array([0, 1, 2, 3, 5, 4], dtype=int64)"
      ]
     },
     "execution_count": 24,
     "metadata": {},
     "output_type": "execute_result"
    }
   ],
   "source": [
    "my_project[\"number_child\"]=my_project[[\"CHILD03\",\"CHILD07\",\"CHILD12\",\"CHILD18\"]].sum(axis=1)\n",
    "my_project[\"number_child\"].unique()\n",
    "#In comparison with the column numchild this have less unique values because the latter have 6 and 7 values too, which together correspond to 8 donors."
   ]
  },
  {
   "cell_type": "code",
   "execution_count": 184,
   "metadata": {},
   "outputs": [
    {
     "data": {
      "text/plain": [
       "12687    0\n",
       "37107    3\n",
       "52817    4\n",
       "55505    1\n",
       "55714    2\n",
       "84553    0\n",
       "94244    3\n",
       "Name: number_child, dtype: int64"
      ]
     },
     "execution_count": 184,
     "metadata": {},
     "output_type": "execute_result"
    }
   ],
   "source": [
    "#my_project[\"number_child\"]=my_project[[\"CHILD03\",\"CHILD07\",\"CHILD12\",\"CHILD18\"]].sum(axis=1)\n",
    "#my_project[\"NUMCHLD \"].value_counts()\n",
    "my_project[my_project['NUMCHLD'] == 7.0]['number_child']\n",
    "my_project [my_project['NUMCHLD'] == 6.0]['number_child']\n",
    "#In comparison with the column numchild this have less unique values because the latter have 6 and 7 values too, which together correspond to 8 donors."
   ]
  },
  {
   "cell_type": "code",
   "execution_count": 190,
   "metadata": {},
   "outputs": [
    {
     "data": {
      "text/plain": [
       "0.8805391355385067"
      ]
     },
     "execution_count": 190,
     "metadata": {},
     "output_type": "execute_result"
    }
   ],
   "source": [
    "#This line of code will tell us the percentage of columns that remained the same between NUMCHLD and number_child\n",
    "compare_numchild_number_child = np.where(my_project[\"NUMCHLD\"] == my_project[\"number_child\"], True, False)\n",
    "np.sum(compare_numchild_number_child *1)/len(my_project)"
   ]
  },
  {
   "cell_type": "code",
   "execution_count": 25,
   "metadata": {},
   "outputs": [
    {
     "data": {
      "text/plain": [
       "89528"
      ]
     },
     "execution_count": 25,
     "metadata": {},
     "output_type": "execute_result"
    }
   ],
   "source": [
    "#This line of code will tell us the number of donors without children after our feature engineering\n",
    "my_project[\"number_child\"].isin(['0']).sum(axis=0)\n"
   ]
  },
  {
   "cell_type": "code",
   "execution_count": 193,
   "metadata": {},
   "outputs": [
    {
     "data": {
      "text/plain": [
       " 0.0    84014\n",
       " 1.0     6438\n",
       " 2.0     2147\n",
       "-1.0     1606\n",
       " 3.0      620\n",
       "-2.0      307\n",
       " 4.0      173\n",
       "-3.0       60\n",
       " 5.0       33\n",
       "-4.0       10\n",
       " 6.0        2\n",
       "-5.0        2\n",
       "dtype: int64"
      ]
     },
     "execution_count": 193,
     "metadata": {},
     "output_type": "execute_result"
    }
   ],
   "source": [
    "#The following line of code tell us that in 84014 rows there is no difference between NUMCHILD and nuumber_child\n",
    "diff = my_project['NUMCHLD'] - my_project['number_child']\n",
    "diff.value_counts()"
   ]
  },
  {
   "cell_type": "code",
   "execution_count": 26,
   "metadata": {},
   "outputs": [
    {
     "data": {
      "image/png": "[encoded data removed]",
      "text/plain": [
       "<Figure size 2160x1080 with 1 Axes>"
      ]
     },
     "metadata": {},
     "output_type": "display_data"
    }
   ],
   "source": [
    "#Make a graph of the differences\n",
    "sns.set() \n",
    "plt.figure(figsize=(30,15))\n",
    "\n",
    "sns.countplot(x=my_project[\"number_child\"])\n",
    "plt.title(\"Number of children per donor\")\n",
    "\n",
    "plt.show()"
   ]
  },
  {
   "cell_type": "code",
   "execution_count": 202,
   "metadata": {},
   "outputs": [
    {
     "name": "stderr",
     "output_type": "stream",
     "text": [
      "C:\\Users\\marta\\anaconda3\\lib\\site-packages\\seaborn\\distributions.py:369: UserWarning: Default bandwidth for data is 0; skipping density estimation.\n",
      "  warnings.warn(msg, UserWarning)\n",
      "C:\\Users\\marta\\anaconda3\\lib\\site-packages\\seaborn\\distributions.py:369: UserWarning: Default bandwidth for data is 0; skipping density estimation.\n",
      "  warnings.warn(msg, UserWarning)\n"
     ]
    },
    {
     "data": {
      "image/png": "[encoded data removed]",
      "text/plain": [
       "<Figure size 432x288 with 1 Axes>"
      ]
     },
     "metadata": {},
     "output_type": "display_data"
    }
   ],
   "source": [
    "sns.distplot(my_project[\"number_child\"])\n",
    "sns.distplot(my_project[\"NUMCHLD\"])\n",
    "pl\n",
    "plt.show()\n",
    "\n"
   ]
  },
  {
   "cell_type": "code",
   "execution_count": 27,
   "metadata": {},
   "outputs": [
    {
     "data": {
      "text/plain": [
       "83026"
      ]
     },
     "execution_count": 27,
     "metadata": {},
     "output_type": "execute_result"
    }
   ],
   "source": [
    "#This is the number of missing values in NUMCHLD which can be considered like zeros because this value doesn't exist under this column\n",
    "my_project[\"NUMCHLD\"].isin([None]).sum(axis=0)\n",
    "#Even though this number is lower than the one under number_child we will still opt for the number_child variable, because NUMCHLD is a numerical variable and there was no zero value what we consider very strange. In conclusion, we consider that is better to include the column that resulted from feature engineering, column number_child."
   ]
  },
  {
   "cell_type": "code",
   "execution_count": 28,
   "metadata": {},
   "outputs": [],
   "source": [
    "my_project.replace({\"NUMCHLD\":{None:0}}, inplace=True)"
   ]
  },
  {
   "cell_type": "code",
   "execution_count": 29,
   "metadata": {},
   "outputs": [
    {
     "data": {
      "text/plain": [
       "array([0., 1., 2., 3., 4., 5., 6., 7.])"
      ]
     },
     "execution_count": 29,
     "metadata": {},
     "output_type": "execute_result"
    }
   ],
   "source": [
    "my_project[\"NUMCHLD\"].unique()"
   ]
  },
  {
   "cell_type": "code",
   "execution_count": 30,
   "metadata": {},
   "outputs": [
    {
     "data": {
      "text/plain": [
       "dtype('float64')"
      ]
     },
     "execution_count": 30,
     "metadata": {},
     "output_type": "execute_result"
    }
   ],
   "source": [
    "my_project[\"NUMCHLD\"].dtypes"
   ]
  },
  {
   "cell_type": "code",
   "execution_count": 31,
   "metadata": {},
   "outputs": [
    {
     "data": {
      "text/plain": [
       "dtype('int32')"
      ]
     },
     "execution_count": 31,
     "metadata": {},
     "output_type": "execute_result"
    }
   ],
   "source": [
    "my_project.astype({'NUMCHLD': 'int32'})[\"NUMCHLD\"].dtypes"
   ]
  },
  {
   "cell_type": "code",
   "execution_count": 32,
   "metadata": {},
   "outputs": [
    {
     "data": {
      "image/png": "[encoded data removed]",
      "text/plain": [
       "<Figure size 2160x1080 with 1 Axes>"
      ]
     },
     "metadata": {},
     "output_type": "display_data"
    }
   ],
   "source": [
    "sns.set() \n",
    "plt.figure(figsize=(30,15))\n",
    "\n",
    "sns.countplot(x=my_project[\"NUMCHLD\"])\n",
    "plt.title(\"Number of children per donor\")\n",
    "\n",
    "plt.show()"
   ]
  },
  {
   "cell_type": "code",
   "execution_count": null,
   "metadata": {},
   "outputs": [],
   "source": []
  },
  {
   "cell_type": "code",
   "execution_count": 33,
   "metadata": {},
   "outputs": [],
   "source": [
    "#my_project.drop([\"NUMCHLD\"],axis=1,inplace=True)"
   ]
  },
  {
   "cell_type": "code",
   "execution_count": 34,
   "metadata": {},
   "outputs": [
    {
     "data": {
      "image/png": "[encoded data removed]",
      "text/plain": [
       "<Figure size 432x288 with 1 Axes>"
      ]
     },
     "metadata": {},
     "output_type": "display_data"
    },
    {
     "data": {
      "text/plain": [
       "<Figure size 2160x1080 with 0 Axes>"
      ]
     },
     "metadata": {},
     "output_type": "display_data"
    }
   ],
   "source": [
    "#Variable HIT\n",
    "sns.boxplot(y=my_project[\"HIT\"])\n",
    "plt.figure(figsize=(30,15))\n",
    "\n",
    "plt.show()"
   ]
  },
  {
   "cell_type": "code",
   "execution_count": 35,
   "metadata": {},
   "outputs": [
    {
     "data": {
      "image/png": "[encoded data removed]",
      "text/plain": [
       "<Figure size 2160x1080 with 1 Axes>"
      ]
     },
     "metadata": {},
     "output_type": "display_data"
    }
   ],
   "source": [
    "#Varaible HIT\n",
    "sns.set() \n",
    "plt.figure(figsize=(30,15))\n",
    "\n",
    "sns.countplot(x=my_project[\"HIT\"])\n",
    "plt.title(\"Number of times donors replied to mail order offers other than PVA\")\n",
    "\n",
    "plt.show()\n",
    "#The hits of 32 to 241 qccount for only 1018 donors"
   ]
  },
  {
   "cell_type": "code",
   "execution_count": 36,
   "metadata": {},
   "outputs": [],
   "source": [
    "#To detect outliers manually by limiting the number of replies to 31 ( we will keep this)\n",
    "filters1 = ((my_project[\"HIT\"]<=31))\n",
    "\n",
    "my_project_noutliers = my_project[filters1]\n"
   ]
  },
  {
   "cell_type": "code",
   "execution_count": 37,
   "metadata": {},
   "outputs": [
    {
     "name": "stdout",
     "output_type": "stream",
     "text": [
      "Percentage of data kept after removing outliers: 0.9893\n"
     ]
    }
   ],
   "source": [
    "#How much data is kept if we limit the number of replies to 31\n",
    "print('Percentage of data kept after removing outliers:', np.round(my_project_noutliers.shape[0] / my_project.shape[0], 4))"
   ]
  },
  {
   "cell_type": "code",
   "execution_count": 38,
   "metadata": {},
   "outputs": [
    {
     "data": {
      "image/png": "[encoded data removed]",
      "text/plain": [
       "<Figure size 2160x1080 with 1 Axes>"
      ]
     },
     "metadata": {},
     "output_type": "display_data"
    }
   ],
   "source": [
    "sns.set() \n",
    "plt.figure(figsize=(30,15))\n",
    "\n",
    "sns.countplot(x=my_project_noutliers[\"HIT\"])\n",
    "plt.title(\"Number of times donors replied to mail order offers other than PVA\")\n",
    "\n",
    "plt.show()"
   ]
  },
  {
   "cell_type": "code",
   "execution_count": 39,
   "metadata": {},
   "outputs": [
    {
     "data": {
      "image/png": "[encoded data removed]",
      "text/plain": [
       "<Figure size 432x288 with 1 Axes>"
      ]
     },
     "metadata": {},
     "output_type": "display_data"
    },
    {
     "data": {
      "text/plain": [
       "<Figure size 2160x1080 with 0 Axes>"
      ]
     },
     "metadata": {},
     "output_type": "display_data"
    }
   ],
   "source": [
    "#Variable HIT considering only nuumber of replies until 31\n",
    "sns.boxplot(y=my_project_noutliers[\"HIT\"])\n",
    "plt.figure(figsize=(30,15))\n",
    "\n",
    "plt.show()"
   ]
  },
  {
   "cell_type": "code",
   "execution_count": 40,
   "metadata": {},
   "outputs": [],
   "source": [
    "#To detect outliers manually by limiting the number of replies to 84\n",
    "filters2 = ((my_project[\"HIT\"]<=84))\n",
    "my_project_f2 = my_project[filters2]\n"
   ]
  },
  {
   "cell_type": "code",
   "execution_count": 41,
   "metadata": {},
   "outputs": [
    {
     "name": "stdout",
     "output_type": "stream",
     "text": [
      "Percentage of data kept after removing outliers: 0.9992\n"
     ]
    }
   ],
   "source": [
    "#How much data is kept if we limit the number of replies to 84\n",
    "print('Percentage of data kept after removing outliers:', np.round(my_project_f2.shape[0] / my_project.shape[0], 4))"
   ]
  },
  {
   "cell_type": "code",
   "execution_count": 42,
   "metadata": {},
   "outputs": [
    {
     "data": {
      "image/png": "[encoded data removed]",
      "text/plain": [
       "<Figure size 432x288 with 1 Axes>"
      ]
     },
     "metadata": {},
     "output_type": "display_data"
    },
    {
     "data": {
      "text/plain": [
       "<Figure size 2160x1080 with 0 Axes>"
      ]
     },
     "metadata": {},
     "output_type": "display_data"
    }
   ],
   "source": [
    "#Variable HIT  with replies until 84\n",
    "sns.boxplot(y=my_project_f2[\"HIT\"])\n",
    "plt.figure(figsize=(30,15))\n",
    "\n",
    "plt.show()"
   ]
  },
  {
   "cell_type": "code",
   "execution_count": 43,
   "metadata": {},
   "outputs": [
    {
     "name": "stdout",
     "output_type": "stream",
     "text": [
      "Percentage of data kept after removing outliers: 0.8571\n"
     ]
    }
   ],
   "source": [
    "#Assessment of outliers with interquartile range\n",
    "q25 = my_project[[\"HIT\"]].quantile(.25)\n",
    "q75 = my_project[[\"HIT\"]].quantile(.75)\n",
    "iqr = (q75 - q25)\n",
    "\n",
    "upper_lim = q75 + 1.5 * iqr\n",
    "lower_lim = q25 - 1.5 * iqr\n",
    "\n",
    "filters3 = []\n",
    "for metric in my_project[[\"HIT\"]]:\n",
    "    llim = lower_lim[metric]\n",
    "    ulim = upper_lim[metric]\n",
    "    filters3.append(my_project[\"HIT\"].between(llim, ulim, inclusive=True))\n",
    "\n",
    "filters3 = pd.Series(np.all(filters3, 0))\n",
    "my_project_f3 = my_project[filters3]\n",
    "print('Percentage of data kept after removing outliers:', np.round(my_project_f3.shape[0] / my_project.shape[0], 4))"
   ]
  },
  {
   "cell_type": "code",
   "execution_count": 197,
   "metadata": {},
   "outputs": [
    {
     "data": {
      "text/plain": [
       "HIT    7.5\n",
       "dtype: float64"
      ]
     },
     "execution_count": 197,
     "metadata": {},
     "output_type": "execute_result"
    }
   ],
   "source": [
    "#The upper limit\n",
    "upper_lim\n"
   ]
  },
  {
   "cell_type": "code",
   "execution_count": 44,
   "metadata": {},
   "outputs": [
    {
     "name": "stdout",
     "output_type": "stream",
     "text": [
      "Percentage of data kept after removing outliers: 0.9893\n"
     ]
    }
   ],
   "source": [
    "#If we combine the two methods, not interesting\n",
    "\n",
    "my_project_f4 = my_project[(filters1 | filters3)]\n",
    "print('Percentage of data kept after removing outliers:', np.round(my_project_f4.shape[0] / my_project.shape[0], 4))"
   ]
  },
  {
   "cell_type": "code",
   "execution_count": 88,
   "metadata": {},
   "outputs": [
    {
     "data": {
      "text/plain": [
       "0         \n",
       "1         \n",
       "2         \n",
       "3         \n",
       "4        X\n",
       "        ..\n",
       "95407     \n",
       "95408     \n",
       "95409    X\n",
       "95410     \n",
       "95411     \n",
       "Name: RECP3, Length: 95412, dtype: object"
      ]
     },
     "execution_count": 88,
     "metadata": {},
     "output_type": "execute_result"
    }
   ],
   "source": [
    "my_project2=donors.copy()\n",
    "#Will tranform the variaable RECP3 in string\n",
    "my_project2[\"RECP3\"].astype(str)"
   ]
  },
  {
   "cell_type": "code",
   "execution_count": 92,
   "metadata": {},
   "outputs": [
    {
     "data": {
      "text/html": [
       "<div>\n",
       "<style scoped>\n",
       "    .dataframe tbody tr th:only-of-type {\n",
       "        vertical-align: middle;\n",
       "    }\n",
       "\n",
       "    .dataframe tbody tr th {\n",
       "        vertical-align: top;\n",
       "    }\n",
       "\n",
       "    .dataframe thead th {\n",
       "        text-align: right;\n",
       "    }\n",
       "</style>\n",
       "<table border=\"1\" class=\"dataframe\">\n",
       "  <thead>\n",
       "    <tr style=\"text-align: right;\">\n",
       "      <th></th>\n",
       "      <th>SOLP3</th>\n",
       "    </tr>\n",
       "    <tr>\n",
       "      <th>RECP3</th>\n",
       "      <th></th>\n",
       "    </tr>\n",
       "  </thead>\n",
       "  <tbody>\n",
       "    <tr>\n",
       "      <th></th>\n",
       "      <td>93395</td>\n",
       "    </tr>\n",
       "    <tr>\n",
       "      <th>X</th>\n",
       "      <td>2017</td>\n",
       "    </tr>\n",
       "  </tbody>\n",
       "</table>\n",
       "</div>"
      ],
      "text/plain": [
       "       SOLP3\n",
       "RECP3       \n",
       "       93395\n",
       "X       2017"
      ]
     },
     "execution_count": 92,
     "metadata": {},
     "output_type": "execute_result"
    }
   ],
   "source": [
    "#Variable SOLP3\n",
    "\n",
    "#RECP3                       P3 File Flag\n",
    "#                            _ = Not a P3 Record\n",
    "#                            X = Donor has given to PVA's P3 program\n",
    "#SOLP3                       SOLICIT LIMITATION CODE P3\n",
    "#                               = can be mailed (Default)\n",
    "#                            00 = Do Not Solicit or Mail\n",
    "#                            01 = one solicitation per year\n",
    "#                           02 = two solicitations per year\n",
    "#                            03 = three solicitations per year\n",
    "#                            04 = four solicitations per year\n",
    "#                            05 = five solicitations per year\n",
    "#                            06 = six solicitations per year\n",
    "#                            12 = twelve solicitations per year\n",
    "\n",
    "#The following line of code will let us know what number of elements under column SOLP3 have a correspondent blank value under RECP3, meaning they represent donors who are not in P3 program.\n",
    "my_project2[[\"RECP3\",\"SOLP3\"]].groupby(by=[\"RECP3\"]).count()\n"
   ]
  },
  {
   "cell_type": "code",
   "execution_count": 71,
   "metadata": {},
   "outputs": [
    {
     "data": {
      "text/plain": [
       "95232"
      ]
     },
     "execution_count": 71,
     "metadata": {},
     "output_type": "execute_result"
    }
   ],
   "source": [
    "#The following line will tell us the number of blank cells under SOLP3 which can account for missing values,donors who can be mailed as many times as we want or not member of P3 program. .\n",
    "my_project2[\"SOLP3\"].isin([\" \"]).sum(axis=0)"
   ]
  },
  {
   "cell_type": "code",
   "execution_count": 129,
   "metadata": {},
   "outputs": [],
   "source": [
    "#The following line of code will give the index of the donors who don't belong to P3 program because they have a blank value under RECP3\n",
    "\n",
    "grouped= my_project2[[\"RECP3\",\"SOLP3\"]].groupby(by=[\"RECP3\"]).get_group(\" \").index\n"
   ]
  },
  {
   "cell_type": "code",
   "execution_count": 130,
   "metadata": {},
   "outputs": [],
   "source": [
    "#The following line of code will transform the values under the column SOLP3  correspondent to the above axis in -1\n",
    "solp31=my_project2.iloc[grouped,47].replace(\" \",-1)"
   ]
  },
  {
   "cell_type": "code",
   "execution_count": 131,
   "metadata": {},
   "outputs": [],
   "source": [
    "#The following line of code will give the index of the donors who  belong to P3 program because they have a X under RECP3\n",
    "grouped1=my_project[[\"RECP3\",\"SOLP3\"]] .groupby(by=[\"RECP3\"]).get_group(\"X\").index"
   ]
  },
  {
   "cell_type": "code",
   "execution_count": 132,
   "metadata": {},
   "outputs": [],
   "source": [
    "#The following line of code will transform the donors under SOLP3 correspondent to the above axis and assume that they can be mailed as many times as we want to the number 12\n",
    "\n",
    "solp32=my_project2.iloc[grouped1,47].replace(\" \",12)"
   ]
  },
  {
   "cell_type": "code",
   "execution_count": 133,
   "metadata": {},
   "outputs": [],
   "source": [
    "#This line of code will return the column SOLP3 with the necessary changes\n",
    "my_project2[\"SOLP3\"]=pd.concat([solp31,solp32])"
   ]
  },
  {
   "cell_type": "code",
   "execution_count": 135,
   "metadata": {},
   "outputs": [
    {
     "data": {
      "text/plain": [
       "array([-1, 12, '00', '12', '01', '02'], dtype=object)"
      ]
     },
     "execution_count": 135,
     "metadata": {},
     "output_type": "execute_result"
    }
   ],
   "source": [
    "my_project2[\"SOLP3\"].unique()"
   ]
  },
  {
   "cell_type": "code",
   "execution_count": 144,
   "metadata": {},
   "outputs": [
    {
     "data": {
      "text/plain": [
       "0"
      ]
     },
     "execution_count": 144,
     "metadata": {},
     "output_type": "execute_result"
    }
   ],
   "source": [
    "my_project2[\"SOLP3\"].isnull().sum()"
   ]
  },
  {
   "cell_type": "code",
   "execution_count": 147,
   "metadata": {},
   "outputs": [
    {
     "data": {
      "text/plain": [
       "0        -1\n",
       "1        -1\n",
       "2        -1\n",
       "3        -1\n",
       "4        12\n",
       "         ..\n",
       "95407    -1\n",
       "95408    -1\n",
       "95409    12\n",
       "95410    -1\n",
       "95411    -1\n",
       "Name: SOLP3, Length: 95412, dtype: int32"
      ]
     },
     "execution_count": 147,
     "metadata": {},
     "output_type": "execute_result"
    }
   ],
   "source": [
    "my_project2[\"SOLP3\"].astype(int)"
   ]
  },
  {
   "cell_type": "code",
   "execution_count": 148,
   "metadata": {},
   "outputs": [
    {
     "data": {
      "text/plain": [
       "array([-1, 12, '00', '12', '01', '02'], dtype=object)"
      ]
     },
     "execution_count": 148,
     "metadata": {},
     "output_type": "execute_result"
    }
   ],
   "source": [
    "my_project2[\"SOLP3\"].unique()"
   ]
  },
  {
   "cell_type": "code",
   "execution_count": 151,
   "metadata": {},
   "outputs": [],
   "source": [
    "my_project2.replace({\"SOLP3\": {\"00\":0,\"12\":12,\"01\": 1,\"02\":2}}, inplace=True)"
   ]
  },
  {
   "cell_type": "code",
   "execution_count": 152,
   "metadata": {},
   "outputs": [
    {
     "data": {
      "text/plain": [
       "array([-1, 12,  0,  1,  2], dtype=int64)"
      ]
     },
     "execution_count": 152,
     "metadata": {},
     "output_type": "execute_result"
    }
   ],
   "source": [
    "my_project2[\"SOLP3\"].unique()"
   ]
  },
  {
   "cell_type": "code",
   "execution_count": 198,
   "metadata": {},
   "outputs": [],
   "source": [
    "my_project2.drop([\"RECP3\"], axis=1,inplace=True)"
   ]
  },
  {
   "cell_type": "code",
   "execution_count": null,
   "metadata": {},
   "outputs": [],
   "source": [
    "#Variable SOLIH\n",
    "#SOLICITATION LIMIT CODE IN HOUSE\n",
    "#                               = can be mailed (Default)\n",
    "#                            00 = Do Not Solicit\n",
    "#                            01 = one solicitation per year\n",
    "#                            02 = two solicitations per year\n",
    "#                            03 = three solicitations per year\n",
    "#                            04 = four solicitations per year\n",
    "#                            05 = five solicitations per year\n",
    "#                            06 = six solicitations per year\n",
    "#                            12 = twelve solicitations per year\n",
    "#RECINHSE                    In House File Flag\n",
    "#                            _ = Not an In House Record\n",
    "#                            X = Donor has given to PVA's In House program"
   ]
  },
  {
   "cell_type": "code",
   "execution_count": 169,
   "metadata": {},
   "outputs": [
    {
     "data": {
      "text/html": [
       "<div>\n",
       "<style scoped>\n",
       "    .dataframe tbody tr th:only-of-type {\n",
       "        vertical-align: middle;\n",
       "    }\n",
       "\n",
       "    .dataframe tbody tr th {\n",
       "        vertical-align: top;\n",
       "    }\n",
       "\n",
       "    .dataframe thead th {\n",
       "        text-align: right;\n",
       "    }\n",
       "</style>\n",
       "<table border=\"1\" class=\"dataframe\">\n",
       "  <thead>\n",
       "    <tr style=\"text-align: right;\">\n",
       "      <th></th>\n",
       "      <th>SOLIH</th>\n",
       "    </tr>\n",
       "    <tr>\n",
       "      <th>RECINHSE</th>\n",
       "      <th></th>\n",
       "    </tr>\n",
       "  </thead>\n",
       "  <tbody>\n",
       "    <tr>\n",
       "      <th></th>\n",
       "      <td>88709</td>\n",
       "    </tr>\n",
       "    <tr>\n",
       "      <th>X</th>\n",
       "      <td>6703</td>\n",
       "    </tr>\n",
       "  </tbody>\n",
       "</table>\n",
       "</div>"
      ],
      "text/plain": [
       "          SOLIH\n",
       "RECINHSE       \n",
       "          88709\n",
       "X          6703"
      ]
     },
     "execution_count": 169,
     "metadata": {},
     "output_type": "execute_result"
    }
   ],
   "source": [
    "#The following line of code will let us know what number of elements under column SOLIH have a correspondent blank value under RECINHSE, meaning they represent donors who are not inHouse program.\n",
    "my_project2[[\"RECINHSE\",\"SOLIH\"]].groupby(by=[\"RECINHSE\"]).count()"
   ]
  },
  {
   "cell_type": "code",
   "execution_count": 137,
   "metadata": {},
   "outputs": [],
   "source": [
    "#The following line of code will give the index of the donors who don't belong to In House  program because they have a blank value under RECINHSE\n",
    "\n",
    "SOLIHg_index1= my_project2[[\"RECINHSE\",\"SOLIH\"]].groupby(by=[\"RECINHSE\"]).get_group(\" \").index"
   ]
  },
  {
   "cell_type": "code",
   "execution_count": 138,
   "metadata": {},
   "outputs": [],
   "source": [
    "#The following line of code will transform the donors who don't belong to In House program under SOLIH in -1.\n",
    "SOLIH1=my_project2.iloc[grouped,48].replace(\" \",-1)"
   ]
  },
  {
   "cell_type": "code",
   "execution_count": 207,
   "metadata": {},
   "outputs": [
    {
     "data": {
      "text/plain": [
       "0        -1\n",
       "1        -1\n",
       "2        -1\n",
       "3        -1\n",
       "5        -1\n",
       "         ..\n",
       "95406    -1\n",
       "95407    -1\n",
       "95408    -1\n",
       "95410    12\n",
       "95411    12\n",
       "Name: SOLIH, Length: 93395, dtype: int64"
      ]
     },
     "execution_count": 207,
     "metadata": {},
     "output_type": "execute_result"
    }
   ],
   "source": [
    "SOLIH1better=my_project2.iloc[grouped][\"SOLIH\"].replace(\" \",-1)\n",
    "SOLIH1better"
   ]
  },
  {
   "cell_type": "code",
   "execution_count": 170,
   "metadata": {},
   "outputs": [],
   "source": [
    "#The following line of code will give the index of the donors who  belong to In House program because they have a X under RECINHSE\n",
    "SOLIHg_index2=my_project[[\"RECINHSE\",\"SOLIH\"]] .groupby(by=[\"RECINHSE\"]).get_group(\"X\").index"
   ]
  },
  {
   "cell_type": "code",
   "execution_count": 209,
   "metadata": {},
   "outputs": [],
   "source": [
    "#The following line of code will transform the donors under SOLIH\" correspondent to the above axis and assume that they can be mailed as many times as we want to the number 12\n",
    "SOLIH2=my_project2.iloc[grouped1,48].replace(\" \",12)"
   ]
  },
  {
   "cell_type": "code",
   "execution_count": 208,
   "metadata": {},
   "outputs": [],
   "source": [
    "#This line of code will return the column SOLIH with the necessary changes\n",
    "my_project2[\"SOLIH\"]=pd.concat([SOLIH1better,SOLIH2])"
   ]
  },
  {
   "cell_type": "code",
   "execution_count": 142,
   "metadata": {},
   "outputs": [
    {
     "data": {
      "text/plain": [
       "array([-1, 12, '12', '00', '02', '01', '04', '06', '03'], dtype=object)"
      ]
     },
     "execution_count": 142,
     "metadata": {},
     "output_type": "execute_result"
    }
   ],
   "source": [
    "my_project2[\"SOLIH\"].unique()"
   ]
  },
  {
   "cell_type": "code",
   "execution_count": 173,
   "metadata": {},
   "outputs": [
    {
     "data": {
      "text/plain": [
       "0"
      ]
     },
     "execution_count": 173,
     "metadata": {},
     "output_type": "execute_result"
    }
   ],
   "source": [
    "my_project2[\"SOLIH\"].isnull().sum()"
   ]
  },
  {
   "cell_type": "code",
   "execution_count": 174,
   "metadata": {},
   "outputs": [],
   "source": [
    "my_project2.replace({\"SOLIH\": {\"00\":0,\"12\":12,\"01\":1,\"02\":2,\"03\":3,\"04\":4,\"06\":6}}, inplace=True)"
   ]
  },
  {
   "cell_type": "code",
   "execution_count": 175,
   "metadata": {},
   "outputs": [
    {
     "data": {
      "text/plain": [
       "array([-1, 12,  0,  2,  1,  4,  6,  3], dtype=int64)"
      ]
     },
     "execution_count": 175,
     "metadata": {},
     "output_type": "execute_result"
    }
   ],
   "source": [
    "my_project2[\"SOLIH\"].unique()"
   ]
  },
  {
   "cell_type": "code",
   "execution_count": null,
   "metadata": {},
   "outputs": [],
   "source": [
    "#We can conclude to eliminate RECINHSE and RECP3\n",
    "#my_project.drop([\"RECINHSE\",\"RECP3\"],axis=1,inplace=True)"
   ]
  },
  {
   "cell_type": "code",
   "execution_count": 168,
   "metadata": {},
   "outputs": [
    {
     "data": {
      "text/plain": [
       "XXXX    95118\n",
       "Name: MDMAUD, dtype: int64"
      ]
     },
     "execution_count": 168,
     "metadata": {},
     "output_type": "execute_result"
    }
   ],
   "source": [
    "#Major ($$) Donor Flag\n",
    " #                           _ = Not a Major Donor\n",
    " #                           X = Major Donor\n",
    "#'X' indicates that the donor is not a major donor in MDMAUD\n",
    "my_project2.loc[my_project2[\"MAJOR\"] ==\" \"][[\"MDMAUD\"]] [\"MDMAUD\"].value_counts()\n",
    "#We can conclude that all blank values under column Major (that represent the not major donor) have a correspondent X in the column MDMAUD, so the column Major can be deleted  "
   ]
  },
  {
   "cell_type": "code",
   "execution_count": null,
   "metadata": {},
   "outputs": [],
   "source": [
    "#my_project2.drop(\"MAJOR\",axis=1, inplace=True)\n"
   ]
  }
 ],
 "metadata": {
  "kernelspec": {
   "display_name": "Python 3",
   "language": "python",
   "name": "python3"
  },
  "language_info": {
   "codemirror_mode": {
    "name": "ipython",
    "version": 3
   },
   "file_extension": ".py",
   "mimetype": "text/x-python",
   "name": "python",
   "nbconvert_exporter": "python",
   "pygments_lexer": "ipython3",
   "version": "3.8.3"
  }
 },
 "nbformat": 4,
 "nbformat_minor": 4
}
