{
 "cells": [
  {
   "cell_type": "code",
   "execution_count": 2,
   "metadata": {},
   "outputs": [],
   "source": [
    "#MASTER"
   ]
  },
  {
   "cell_type": "code",
   "execution_count": 3,
   "metadata": {},
   "outputs": [],
   "source": [
    "#import all necessary libraries\n",
    "import sqlite3\n",
    "import os\n",
    "import pandas as pd\n",
    "import numpy as np\n",
    "import matplotlib.pyplot as plt\n",
    "import seaborn as sns\n",
    "from math import ceil"
   ]
  },
  {
   "cell_type": "code",
   "execution_count": null,
   "metadata": {},
   "outputs": [],
   "source": [
    "#########################################################################Nadine download\n",
    "#load the csv file and save it into the dataframe donors\n",
    "mypath=os.path.join(\"..\",\"DMDSAA\",\"data\",\"donors.csv\")\n",
    "donors=pd.read_csv(os.path.join(mypath),index_col = 0)"
   ]
  },
  {
   "cell_type": "code",
   "execution_count": null,
   "metadata": {},
   "outputs": [],
   "source": [
    "#top 5 rows of dataset for visualization\n",
    "donors.head()"
   ]
  },
  {
   "cell_type": "code",
   "execution_count": null,
   "metadata": {},
   "outputs": [],
   "source": [
    "#shape of dataset so number of rows and columns\n",
    "donors.shape"
   ]
  },
  {
   "cell_type": "code",
   "execution_count": null,
   "metadata": {},
   "outputs": [],
   "source": [
    "#checking the null values in each column\n",
    "donors.info(verbose=True,null_counts=True)"
   ]
  },
  {
   "cell_type": "code",
   "execution_count": null,
   "metadata": {},
   "outputs": [],
   "source": [
    "#checking the data types \n",
    "donors.dtypes"
   ]
  },
  {
   "cell_type": "code",
   "execution_count": null,
   "metadata": {},
   "outputs": [],
   "source": [
    "#count of missing values\n",
    "donors.isna().sum()"
   ]
  },
  {
   "cell_type": "code",
   "execution_count": null,
   "metadata": {},
   "outputs": [],
   "source": [
    "#checking for duplicated observations\n",
    "donors.duplicated().sum()"
   ]
  },
  {
   "cell_type": "code",
   "execution_count": null,
   "metadata": {},
   "outputs": [],
   "source": [
    "#descriptive statistics\n",
    "donors.describe(include=\"all\")"
   ]
  },
  {
   "cell_type": "code",
   "execution_count": null,
   "metadata": {},
   "outputs": [],
   "source": [
    "#!!!!!!!!!!ATTENTION BEA!!!!!!!!!!\n",
    "######\n",
    "######\n",
    "####BEAAAA PLEASE ADD THE PANDA PROFILING CODE THAT WORKED WITH YOU HERE!!! \n",
    "######\n",
    "######\n",
    "####THANK YOU :)"
   ]
  },
  {
   "cell_type": "code",
   "execution_count": null,
   "metadata": {},
   "outputs": [],
   "source": [
    "#Based on previous analysis, we will drop the following columns (justification provided in report appendix??)\n",
    "\n",
    "donors.drop(['PVASTATE','NOEXCH','HOMEOWNR','NUMCHLD','MALEMILI','MALEVET','VIETVETS','WWIIVETS','LOCALGOV','STATEGOV','FEDGOV','GEOCODE','LIFESRC','NEXTDATE','HPHONE_D','GEOCODE2'], axis=1,inplace=True)\n",
    "\n",
    "#drop all ADATE columns except ADATE_2\n",
    "donors.drop(['ADATE_3','ADATE_4','ADATE_5','ADATE_6','ADATE_7','ADATE_8','ADATE_9','ADATE_10','ADATE_11','ADATE_12','ADATE_13','ADATE_14','ADATE_15','ADATE_16','ADATE_17','ADATE_18','ADATE_19','ADATE_20','ADATE_21','ADATE_22','ADATE_23','ADATE_24'], axis=1,inplace=True)\n",
    "\n",
    "#drop all the RFA columns\n",
    "donors.drop(['RFA_2','RFA_3','RFA_4','RFA_5','RFA_6','RFA_7','RFA_8','RFA_9','RFA_10','RFA_11','RFA_12','RFA_13','RFA_14','RFA_15','RFA_16','RFA_17','RFA_18','RFA_19','RFA_20','RFA_21','RFA_22','RFA_23','RFA_24'], axis=1,inplace=True)\n",
    "\n",
    "#drop all the RDATE columns\n",
    "donors.drop(['RDATE_3','RDATE_4','RDATE_5','RDATE_6','RDATE_7','RDATE_8','RDATE_9','RDATE_10','RDATE_11','RDATE_12','RDATE_13','RDATE_14','RDATE_15','RDATE_16','RDATE_17','RDATE_18','RDATE_19','RDATE_20','RDATE_21','RDATE_22','RDATE_23','RDATE_24'], axis=1,inplace=True)\n",
    "\n",
    "#drop all the RAMNT columns\n",
    "donors.drop(['RAMNT_3','RAMNT_4','RAMNT_5','RAMNT_6','RAMNT_7','RAMNT_8','RAMNT_9','RAMNT_10','RAMNT_11','RAMNT_12','RAMNT_13','RAMNT_14','RAMNT_15','RAMNT_16','RAMNT_17','RAMNT_18','RAMNT_19','RAMNT_20','RAMNT_21','RAMNT_22','RAMNT_23','RAMNT_24'], axis=1,inplace=True)\n"
   ]
  },
  {
   "cell_type": "code",
   "execution_count": null,
   "metadata": {},
   "outputs": [],
   "source": [
    "#check that the columns were dropped successfully\n",
    "donors.shape"
   ]
  },
  {
   "cell_type": "code",
   "execution_count": null,
   "metadata": {},
   "outputs": [],
   "source": [
    "#clean up the ZIP column by getting rid of the '-' at the beginning of each entry and replacing it with nothing\n",
    "donors['ZIP']=donors['ZIP'].str.replace(\"-\",\"\")\n",
    "donors['ZIP'].head()\n",
    "\n",
    "#check if converts to integer successfully, it means all '-'symbols were removed\n",
    "donors['ZIP']=donors['ZIP'].astype(int)\n",
    "donors['ZIP'].dtypes"
   ]
  },
  {
   "cell_type": "code",
   "execution_count": null,
   "metadata": {},
   "outputs": [],
   "source": [
    "#check the type of the DOB column\n",
    "donors['DOB'].dtypes #it's a string\n",
    "\n",
    "#treat the DOB to only show the year with without the day or month\n",
    "donors['DOB'] = donors['DOB'].str[:4]\n",
    "\n",
    "donors['DOB'].head()"
   ]
  },
  {
   "cell_type": "code",
   "execution_count": null,
   "metadata": {},
   "outputs": [],
   "source": [
    "#treat the RECINHSE column to have 0s and 1s instead of blanks and Xs\n",
    "\n",
    "#check the type of the RECINHSE column\n",
    "donors['RECINHSE'].dtypes    #it's a string \n",
    "\n",
    "#replace all blank rows in the RECINHSE with 0\n",
    "donors['RECINHSE']=donors['RECINHSE'].str.replace(\" \",\"0\")\n",
    "\n",
    "#replace all X rows in the RECINHSE with 1\n",
    "donors['RECINHSE']=donors['RECINHSE'].str.replace(\"X\",\"1\")\n",
    "\n",
    "#typecast it into an integer for later use\n",
    "donors['RECINHSE']=donors['RECINHSE'].astype(int)\n",
    "donors['RECINHSE'].dtypes\n",
    "\n",
    "#check that it now only includes values 0 and 1\n",
    "donors['RECINHSE'].value_counts()"
   ]
  },
  {
   "cell_type": "code",
   "execution_count": null,
   "metadata": {},
   "outputs": [],
   "source": [
    "#treat the RECP3 column to have 0s and 1s instead of blanks and Xs\n",
    "\n",
    "#check the type of the RECP3 column\n",
    "donors['RECP3'].dtypes    #it's a string \n",
    "\n",
    "#replace all blank rows in the RECP3 with 0\n",
    "donors['RECP3']=donors['RECP3'].str.replace(\" \",\"0\")\n",
    "\n",
    "#replace all X rows in the RECP3 with 1\n",
    "donors['RECP3']=donors['RECP3'].str.replace(\"X\",\"1\")\n",
    "\n",
    "#typecast it into an integer for later use\n",
    "donors['RECP3']=donors['RECP3'].astype(int)\n",
    "donors['RECP3'].dtypes\n",
    "\n",
    "#check that it now only includes values 0 and 1\n",
    "donors['RECP3'].value_counts()"
   ]
  },
  {
   "cell_type": "code",
   "execution_count": null,
   "metadata": {},
   "outputs": [],
   "source": [
    "#treat the RECPGVG column to have 0s and 1s instead of blanks and Xs\n",
    "\n",
    "#check the type of the RECPGVG column\n",
    "donors['RECPGVG'].dtypes    #it's a string \n",
    "\n",
    "#replace all blank rows in the RECPGVG with 0\n",
    "donors['RECPGVG']=donors['RECPGVG'].str.replace(\" \",\"0\")\n",
    "\n",
    "#replace all X rows in the RECINHSE with 1\n",
    "donors['RECPGVG']=donors['RECPGVG'].str.replace(\"X\",\"1\")\n",
    "\n",
    "#typecast it into an integer for later use\n",
    "donors['RECPGVG']=donors['RECPGVG'].astype(int)\n",
    "donors['RECPGVG'].dtypes\n",
    "\n",
    "#check that it now only includes values 0 and 1\n",
    "donors['RECPGVG'].value_counts()"
   ]
  },
  {
   "cell_type": "code",
   "execution_count": null,
   "metadata": {},
   "outputs": [],
   "source": [
    "#treat the RECSWEEP column to have 0s and 1s instead of blanks and Xs\n",
    "\n",
    "#check the type of the RECSWEEP column\n",
    "donors['RECSWEEP'].dtypes    #it's a string \n",
    "\n",
    "#replace all blank rows in the RECSWEEP with 0\n",
    "donors['RECSWEEP']=donors['RECSWEEP'].str.replace(\" \",\"0\")\n",
    "\n",
    "#replace all X rows in the RECSWEEP with 1\n",
    "donors['RECSWEEP']=donors['RECSWEEP'].str.replace(\"X\",\"1\")\n",
    "\n",
    "#typecast it into an integer for later use\n",
    "donors['RECSWEEP']=donors['RECSWEEP'].astype(int)\n",
    "donors['RECSWEEP'].dtypes\n",
    "\n",
    "#check that it now only includes values 0 and 1\n",
    "donors['RECSWEEP'].value_counts()"
   ]
  },
  {
   "cell_type": "code",
   "execution_count": null,
   "metadata": {},
   "outputs": [],
   "source": [
    "#replace blanks, C, and A in gender column with U as they are all unknown values\n",
    "donors['GENDER']=donors['GENDER'].str.replace(\" \",\"U\")\n",
    "donors['GENDER']=donors['GENDER'].str.replace(\"C\",\"U\")\n",
    "donors['GENDER']=donors['GENDER'].str.replace(\"A\",\"U\")\n",
    "\n",
    "#check that it now only includes values that are listed/categorized in the meta data\n",
    "donors['GENDER'].value_counts()"
   ]
  },
  {
   "cell_type": "code",
   "execution_count": null,
   "metadata": {},
   "outputs": [],
   "source": [
    "#treat the PEPSTRFL column to have 0s and 1s instead of blanks and Xs\n",
    "\n",
    "#check the type of the PEPSTRFL column\n",
    "donors['PEPSTRFL'].dtypes    #it's a string \n",
    "\n",
    "#replace all blank rows in the PEPSTRFL with 0\n",
    "donors['PEPSTRFL']=donors['PEPSTRFL'].str.replace(\" \",\"0\")\n",
    "\n",
    "#replace all X rows in the PEPSTRFL with 1\n",
    "donors['PEPSTRFL']=donors['PEPSTRFL'].str.replace(\"X\",\"1\")\n",
    "\n",
    "#typecast it into an integer for later use\n",
    "donors['PEPSTRFL']=donors['PEPSTRFL'].astype(int)\n",
    "donors['PEPSTRFL'].dtypes\n",
    "\n",
    "#check that it now only includes values 0 and 1\n",
    "donors['PEPSTRFL'].value_counts()"
   ]
  },
  {
   "cell_type": "code",
   "execution_count": null,
   "metadata": {},
   "outputs": [],
   "source": [
    "#create a column called Tenure which has the number of years a donor has been donating to PVA \n",
    "\n",
    "#subtract the year of the first date a donor donated to PVA from this year (2020) and turn this number to a float since\n",
    "#there are many NaN values in the FISTDATE column which cannot be typecasted into an integer\n",
    "donors['Tenure'] = 2020 - donors['FISTDATE'].str[:4].astype(float)\n",
    "\n",
    "donors['Tenure'].head()"
   ]
  },
  {
   "cell_type": "code",
   "execution_count": null,
   "metadata": {},
   "outputs": [],
   "source": [
    "#drop FISTDATE since it's not as informative after the feature engineering of the tenure column\n",
    "donors.drop(['FISTDATE'],axis=1,inplace=True)"
   ]
  },
  {
   "cell_type": "code",
   "execution_count": null,
   "metadata": {},
   "outputs": [],
   "source": [
    "#check to see the column Tenure was added and FISTDATE was deleted\n",
    "donors.columns.values "
   ]
  },
  {
   "cell_type": "code",
   "execution_count": null,
   "metadata": {},
   "outputs": [],
   "source": [
    "######MARTAAAA IT'S ALL YOURS NOW##### ###:)"
   ]
  },
  {
   "cell_type": "code",
   "execution_count": null,
   "metadata": {},
   "outputs": [],
   "source": [
    "#########################################################################Marta download\n",
    "#load the csv file and save it into the dataframe donors\n",
    "donors=pd.read_csv(r\"C:\\Users\\marta\\Documents\\Big data\\NOVA IMS\\20202021\\1st Semester\\Data Mining\\Project\\donors.csv\",index_col = 0)"
   ]
  },
  {
   "cell_type": "code",
   "execution_count": null,
   "metadata": {},
   "outputs": [],
   "source": [
    "#treat the column CHILD03,CHILD07, CHILD12, CHILD18  in order to have 0, 1 and 2 instead of blank, M, F and B, respectively and then create a new variable by summing them, called number_child. Remove column NUMCHLD\n",
    "\n",
    "#replace the letters under the column CHILD03 by the correspondent numbers\n",
    "donors.replace({\"CHILD03\": {\"B\":2,\"M\":1,\"F\": 1,\" \":0}}, inplace=True)\n",
    "\n",
    "#confirm that the change was rightly made\n",
    "donors[\"CHILD03\"].unique()\n",
    "\n",
    "#replace the letters under the column CHILD07 by the correspondent numbers\n",
    "donors.replace({\"CHILD07\": {\"B\":2,\"M\":1,\"F\": 1,\" \":0}}, inplace=True)\n",
    "\n",
    "#confirm that the change was rightly made\n",
    "donors[\"CHILD07\"].unique()\n",
    "\n",
    "#replace the letters under the column CHILD12 by the correspondent numbers \n",
    "donors.replace({\"CHILD12\": {\"B\":2,\"M\":1,\"F\": 1,\" \":0}}, inplace=True)\n",
    "\n",
    "#confirm that the change was rightly made\n",
    "donors[\"CHILD12\"].unique()\n",
    "\n",
    "#replace the letters under the column CHILD18 by the correspondent numbers \n",
    "donors.replace({\"CHILD18\": {\"B\":2,\"M\":1,\"F\": 1,\" \":0}}, inplace=True)\n",
    "\n",
    "#confirm that the change was rightly made\n",
    "donors[\"CHILD18\"].unique()\n",
    " \n",
    "#create a new variable named number_child that will sum the values per row under CHILD03,CHILD07, CHILD12, CHILD18 columns in order to create our variable that informs on the number of children per donor\n",
    "donors[\"number_child\"]=donors[[\"CHILD03\",\"CHILD07\",\"CHILD12\",\"CHILD18\"]].sum(axis=1)\n",
    "\n",
    "#percentage of values that remained the same when comparing the variable NUMCHLD and the one created by us, number_child\n",
    "compare_numchild_number_child = np.where(donors[\"NUMCHLD\"] == donors[\"number_child\"], True, False)\n",
    "np.sum(compare_numchild_number_child *1)/len(donors) # the percentage is 88,054%\n",
    "\n",
    "#shows the difference between values under the columns  NUMCHLD and number_child\n",
    "diff = donors['NUMCHLD'] - donors['number_child']\n",
    "diff.value_counts() #84014 rows are equal between the 2 columns\n",
    "\n",
    "# drop column NUMCHLD\n",
    "donors.drop([\"NUMCHLD\"],axis=1,inplace=True)"
   ]
  },
  {
   "cell_type": "code",
   "execution_count": null,
   "metadata": {},
   "outputs": [],
   "source": [
    "# treat column HIT in order to analyse the presence of outliers\n",
    "\n",
    "#create a boxplot for the variable HIT\n",
    "sns.boxplot(y=donors[\"HIT\"])\n",
    "plt.figure(figsize=(30,15))\n",
    "\n",
    "plt.show()\n",
    "\n",
    "#create a histogram for the variable HIT\n",
    "sns.set() \n",
    "plt.figure(figsize=(30,15))\n",
    "\n",
    "sns.countplot(x=donors[\"HIT\"])\n",
    "plt.title(\"Number of times donors replied to mail order offers other than PVA\")\n",
    "\n",
    "plt.show() #The hits of 32 to 241 account for a very low number of donors\n",
    "\n",
    "#assessment of outliers with interquartile range\n",
    "q25 = donors[[\"HIT\"]].quantile(.25)\n",
    "q75 = donors[[\"HIT\"]].quantile(.75)\n",
    "iqr = (q75 - q25)\n",
    "\n",
    "upper_lim = q75 + 1.5 * iqr\n",
    "lower_lim = q25 - 1.5 * iqr\n",
    "\n",
    "filters3 = []\n",
    "for metric in donors[[\"HIT\"]]:\n",
    "    llim = lower_lim[metric]\n",
    "    ulim = upper_lim[metric]\n",
    "    filters3.append(donors[\"HIT\"].between(llim, ulim, inclusive=True))\n",
    "\n",
    "filters3 = pd.Series(np.all(filters3, 0))\n",
    "my_project_f3 = donors[filters3]\n",
    "\n",
    "#how much data is kept with interquartile range\n",
    "print('Percentage of data kept after removing outliers:', np.round(my_project_f3.shape[0] / donors.shape[0], 4))\n",
    "\n",
    "#detect outliers manually by limiting the number of replies to 31\n",
    "filters1 = ((donors[\"HIT\"]<=31))\n",
    "my_project_noutliers = donors[filters1]\n",
    "\n",
    "# how much data is kept if we limit the number of replies to 31\n",
    "print('Percentage of data kept after removing outliers:', np.round(my_project_noutliers.shape[0] / donors.shape[0], 4))\n",
    "\n",
    "#detect outliers manually by limiting the number of replies to 84\n",
    "filters2 = ((donors[\"HIT\"]<=84))\n",
    "my_project_f2 = donors[filters2]\n",
    "\n",
    "#how much data is kept if we limit the number of replies to 84\n",
    "print('Percentage of data kept after removing outliers:', np.round(my_project_f2.shape[0] / donors.shape[0], 4))\n",
    "\n",
    "# decide on keeping only the donors who reply until 31 times\n",
    "donors= donors[filters1]\n"
   ]
  },
  {
   "cell_type": "code",
   "execution_count": null,
   "metadata": {},
   "outputs": [],
   "source": [
    "# treat the column SOLP3 so it is possible to integrate the information in the column RECP3 and then delete it, this will happen by distinguishing between donors that are not in P3 program and the ones who can receive always emails\n",
    "\n",
    "#number of elements under column SOLP3 have a correspondent blank value under RECP3, meaning they represent donors who are not in P3 program.\n",
    "donors[[\"RECP3\",\"SOLP3\"]].groupby(by=[\"RECP3\"]).count()\n",
    "\n",
    "#number of blank cells under SOLP3 which can account for missing values,donors who can be mailed as many times as we want or not member of P3 program. .\n",
    "donors[\"SOLP3\"].isin([\" \"]).sum(axis=0)\n",
    "\n",
    "#index of the donors who don't belong to P3 program because they have a blank value under RECP3\n",
    "grouped= donors[[\"RECP3\",\"SOLP3\"]].groupby(by=[\"RECP3\"]).get_group(\" \").index\n",
    "\n",
    "#transform the values under the column SOLP3  correspondent to the above axis in -1\n",
    "solp31=donors.iloc[grouped][\"SOLP3\"].replace(\" \",-1)\n",
    "\n",
    "#index of the donors who  belong to P3 program because they have a X under RECP3\n",
    "grouped1=donors[[\"RECP3\",\"SOLP3\"]] .groupby(by=[\"RECP3\"]).get_group(\"X\").index\n",
    "\n",
    "#transform the donors under SOLP3 correspondent to the above axis and assume that they can be mailed as many times as we want to the number 12\n",
    "solp32=donors.iloc[grouped1][\"SOLP3\"].replace(\" \",12)\n",
    "\n",
    "#return the column SOLP3 with the necessary changes\n",
    "donors[\"SOLP3\"]=pd.concat([solp31,solp32])\n",
    "\n",
    "#confirm the values under SOLP3\n",
    "donors[\"SOLP3\"].unique()\n",
    "\n",
    "#transform the strings in integer\n",
    "donors.replace({\"SOLP3\": {\"00\":0,\"12\":12,\"01\": 1,\"02\":2}}, inplace=True)\n",
    "\n",
    "#confirm the values under SOLP3\n",
    "donors[\"SOLP3\"].unique()\n",
    "\n",
    "#drop the column RECP3\n",
    "donors.drop([\"RECP3\"], axis=1,inplace=True)"
   ]
  },
  {
   "cell_type": "code",
   "execution_count": null,
   "metadata": {},
   "outputs": [],
   "source": [
    "#treat column SOLIH so it is possible to integrate the information in the column RECINHSE and then delete it, this will happen by distinguishing between donors that are not in IN House program and the ones who can receive always emails\n",
    "\n",
    "#number of elements under column SOLIH have a correspondent blank value under RECINHSE, meaning they represent donors who are not inHouse program.\n",
    "donors[[\"RECINHSE\",\"SOLIH\"]].groupby(by=[\"RECINHSE\"]).count()\n",
    "\n",
    "#index of the donors who don't belong to In House  program because they have a blank value under RECINHSE\n",
    "SOLIHg_index1= donors[[\"RECINHSE\",\"SOLIH\"]].groupby(by=[\"RECINHSE\"]).get_group(\" \").index\n",
    "\n",
    "#transform the donors who don't belong to In House program under SOLIH in -1.\n",
    "SOLIH1=donors.iloc[grouped][[\"SOLIH\"].replace(\" \",-1)\n",
    "\n",
    "#index of the donors who  belong to In House program because they have a X under RECINHSE\n",
    "SOLIHg_index2=donors[[\"RECINHSE\",\"SOLIH\"]] .groupby(by=[\"RECINHSE\"]).get_group(\"X\").index\n",
    "\n",
    "#transform the donors under SOLIH\" correspondent to the above axis and assume that they can be mailed as many times as we want to the number 12\n",
    "SOLIH2=my_project2.iloc[grouped1][\"SOLIH\"].replace(\" \",12)\n",
    "\n",
    "#return the column SOLIH with the necessary changes\n",
    "donors[\"SOLIH\"]=pd.concat([SOLIH1,SOLIH2])\n",
    "\n",
    "#confirm the values under SOLIH\n",
    "donors[\"SOLIH\"].unique()\n",
    "\n",
    "#transform the strings in integer\n",
    "donors.replace({\"SOLIH\": {\"00\":0,\"12\":12,\"01\":1,\"02\":2,\"03\":3,\"04\":4,\"06\":6}}, inplace=True)\n",
    "\n",
    "#confirm the values under SOLIH\n",
    "donors[\"SOLIH\"].unique()\n",
    "\n",
    "#drop the column RECINHSE\n",
    "donors.drop([\"RECINHSE\"], axis=1,inplace=True)"
   ]
  },
  {
   "cell_type": "code",
   "execution_count": null,
   "metadata": {},
   "outputs": [],
   "source": [
    "#treat column MAJOR to see if the information matches the one in the column  MDMAUD, regarding no major donors, and if yes delete MAJOR\n",
    "\n",
    "#check if all the donors with blank cells (not a major donor) under MAJOR correspond a donors with X value (meaning not a major donor) under  MDMAUD\n",
    "my_project2.loc[my_project2[\"MAJOR\"] ==\" \"][[\"MDMAUD\"]] [\"MDMAUD\"].value_counts() #We can conclude that all blank values under column Major (that represent the not major donor) have a correspondent X in the column MDMAUD, so the column Major can be deleted \n",
    "\n",
    "#drop column MAJOR\n",
    "donors.drop(\"MAJOR\",axis=1, inplace=True)"
   ]
  }
 ],
 "metadata": {
  "kernelspec": {
   "display_name": "Python 3",
   "language": "python",
   "name": "python3"
  },
  "language_info": {
   "codemirror_mode": {
    "name": "ipython",
    "version": 3
   },
   "file_extension": ".py",
   "mimetype": "text/x-python",
   "name": "python",
   "nbconvert_exporter": "python",
   "pygments_lexer": "ipython3",
   "version": "3.8.3"
  }
 },
 "nbformat": 4,
 "nbformat_minor": 4
}
