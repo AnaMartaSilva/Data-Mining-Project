{
  "nbformat": 4,
  "nbformat_minor": 0,
  "metadata": {
    "colab": {
      "name": "Project DL.ipynb",
      "provenance": [],
      "collapsed_sections": [],
      "toc_visible": true,
      "include_colab_link": true
    },
    "kernelspec": {
      "name": "python3",
      "display_name": "Python 3"
    }
  },
  "cells": [
    {
      "cell_type": "markdown",
      "metadata": {
        "id": "view-in-github",
        "colab_type": "text"
      },
      "source": [
        "<a href=\"https://colab.research.google.com/github/AnaMartaSilva/Data-Mining-Project/blob/master/Project_DL.ipynb\" target=\"_parent\"><img src=\"https://colab.research.google.com/assets/colab-badge.svg\" alt=\"Open In Colab\"/></a>"
      ]
    },
    {
      "cell_type": "markdown",
      "metadata": {
        "id": "7VsY8M4nlrGe"
      },
      "source": [
        "# Deep Learning Project\r\n",
        "## Mask detection\r\n",
        "\r\n",
        "Group members:\r\n",
        "- Lorenzo Pigozzi\t--- m20200745\r\n",
        "- Marta\r\n",
        "- Gustavo\r\n",
        "- Salim\r\n",
        "\r\n",
        "\r\n"
      ]
    },
    {
      "cell_type": "markdown",
      "metadata": {
        "id": "rJe7dGKkKFGB"
      },
      "source": [
        "# New Section"
      ]
    },
    {
      "cell_type": "markdown",
      "metadata": {
        "id": "ujYp8uilmSD1"
      },
      "source": [
        "### Steps\r\n",
        "1.\tImporting data and libraries  \r\n",
        "2.\tBrief data preprocessing       \r\n",
        "3.\tModel architecture \r\n",
        "4.  Model assessment      \r\n",
        "5.  Deployment"
      ]
    },
    {
      "cell_type": "markdown",
      "metadata": {
        "id": "witmie_SnYza"
      },
      "source": [
        "### 1. Importing data and libraries <a class=\"anchor\" id=\"1\"></a>"
      ]
    },
    {
      "cell_type": "code",
      "metadata": {
        "id": "exD3P8mzl8Ji"
      },
      "source": [
        "# importing needed libraries\r\n",
        "%tensorflow_version 1.x\r\n",
        "import tensorflow\r\n",
        "import pandas as pd\r\n",
        "import numpy as np\r\n",
        "import keras\r\n",
        "import os, shutil\r\n",
        "import io\r\n",
        "\r\n",
        "\r\n",
        "# keras\r\n",
        "from keras.models import Sequential\r\n",
        "from keras.layers import Conv2D\r\n",
        "from keras.layers import MaxPooling2D\r\n",
        "from keras.layers import Flatten\r\n",
        "from keras.layers import Dense\r\n",
        "from keras.preprocessing.image import ImageDataGenerator\r\n",
        "from keras import optimizers\r\n",
        "from keras import callbacks \r\n",
        "\r\n",
        "# sklearn\r\n",
        "from sklearn.metrics import classification_report, confusion_matrix\r\n",
        "\r\n",
        "# matplotlib\r\n",
        "import matplotlib.pyplot as plt"
      ],
      "execution_count": 27,
      "outputs": []
    },
    {
      "cell_type": "code",
      "metadata": {
        "colab": {
          "base_uri": "https://localhost:8080/"
        },
        "id": "EY7xQ9QYRjD4",
        "outputId": "487a7852-eb84-42f4-cfa9-8b1217e5d230"
      },
      "source": [
        "\r\n",
        "# for downloading the pictures\r\n",
        "from google.colab import drive\r\n",
        "drive.mount('/content/gdrive')\r\n",
        "!ls '/content/gdrive'  # take a look at the Google Drive content"
      ],
      "execution_count": 28,
      "outputs": [
        {
          "output_type": "stream",
          "text": [
            "Drive already mounted at /content/gdrive; to attempt to forcibly remount, call drive.mount(\"/content/gdrive\", force_remount=True).\n",
            "MyDrive\n"
          ],
          "name": "stdout"
        }
      ]
    },
    {
      "cell_type": "code",
      "metadata": {
        "id": "u-B_cC56k4b3"
      },
      "source": [
        "######## defining the paths\r\n",
        "original_masks = \"gdrive/MyDrive/Project Deeplearning/Pics_with_masks/withMaskDataset/withMaskDataset/\"\r\n",
        "original_faces = \"gdrive/MyDrive/Project Deeplearning/Images/\""
      ],
      "execution_count": 29,
      "outputs": []
    },
    {
      "cell_type": "code",
      "metadata": {
        "id": "LHZ_RAJhZMqa"
      },
      "source": [
        "# import os\r\n",
        "# !ls /content/gdrive/MyDrive/Project_Deeplearning\r\n",
        "base_dir = 'gdrive/MyDrive/Project Deeplearning/'\r\n",
        "\r\n",
        "# creationof the folder\r\n",
        "# os.mkdir(train_dir)\r\n",
        "# setting the direction of the train\r\n",
        "train_dir = os.path.join(base_dir, 'train')\r\n",
        "\r\n",
        "# creationof the folder\r\n",
        "# os.mkdir(validation_dir)\r\n",
        "# setting the direction of the train\r\n",
        "validation_dir=os.path.join(base_dir, 'validation')\r\n",
        "\r\n",
        "# creationof the folder\r\n",
        "# os.mkdir(test_dir)\r\n",
        "# setting the direction of the train\r\n",
        "test_dir=os.path.join(base_dir, 'test')"
      ],
      "execution_count": 30,
      "outputs": []
    },
    {
      "cell_type": "code",
      "metadata": {
        "id": "k-0i2BXld-KM"
      },
      "source": [
        "train_masks_dir=os.path.join(train_dir, 'masks')\r\n",
        "# os.mkdir(train_masks_dir)\r\n",
        "train_no_masks_dir=os.path.join(train_dir, 'no_masks')\r\n",
        "# os.mkdir(train_no_masks_dir)\r\n",
        "\r\n",
        "validation_masks_dir=os.path.join(validation_dir, 'masks')\r\n",
        "# os.mkdir(validation_masks_dir)\r\n",
        "validation_no_masks_dir=os.path.join(validation_dir, 'no_masks')\r\n",
        "# os.mkdir(validation_no_masks_dir)\r\n",
        "\r\n",
        "test_masks_dir=os.path.join(test_dir, 'masks')\r\n",
        "# os.mkdir(test_masks_dir)\r\n",
        "test_no_masks_dir=os.path.join(test_dir, 'no_masks')\r\n",
        "# os.mkdir(test_no_masks_dir)"
      ],
      "execution_count": 31,
      "outputs": []
    },
    {
      "cell_type": "code",
      "metadata": {
        "id": "b6FDR_J5fH0s"
      },
      "source": [
        "## Train = 70, Val 20, Test 10\r\n",
        "\r\n",
        "#fnames = ['Image{}.jpg'.format(i) for i in range(0,990)]\r\n",
        "#for fname in fnames:\r\n",
        "#  src=os.path.join(original_masks, fname)\r\n",
        "#  dst=os.path.join(train_masks_dir, fname)\r\n",
        "#  shutil.copyfile(src,dst)\r\n",
        "\r\n",
        "# fnames = ['Image{}.jpg'.format(i) for i in range(990,1273)]\r\n",
        "# for fname in fnames:\r\n",
        "#   src=os.path.join(original_masks, fname)\r\n",
        "#   dst=os.path.join(validation_masks_dir, fname)\r\n",
        "#   shutil.copyfile(src,dst)\r\n",
        "\r\n",
        "# fnames = ['Image{}.jpg'.format(i) for i in range(1273,1415)]\r\n",
        "# for fname in fnames:\r\n",
        "#   src=os.path.join(original_masks, fname)\r\n",
        "#   dst=os.path.join(test_masks_dir, fname)\r\n",
        "#   shutil.copyfile(src,dst)\r\n",
        "\r\n",
        "\r\n",
        "\r\n",
        "# fnames = ['Image_Faces{}.jpg'.format(i) for i in range(0,990)]\r\n",
        "# for fname in fnames:\r\n",
        "#   src=os.path.join(original_faces, fname)\r\n",
        "#   dst=os.path.join(train_no_masks_dir, fname)\r\n",
        "#   shutil.copyfile(src,dst)\r\n",
        "\r\n",
        "# fnames = ['Image_Faces{}.jpg'.format(i) for i in range(990,1273)]\r\n",
        "# for fname in fnames:\r\n",
        "#   src=os.path.join(original_faces, fname)\r\n",
        "#   dst=os.path.join(validation_no_masks_dir, fname)\r\n",
        "#   shutil.copyfile(src,dst)\r\n",
        "\r\n",
        "# fnames = ['Image_Faces{}.jpg'.format(i) for i in range(1273,1415)]\r\n",
        "# for fname in fnames:\r\n",
        "#   src=os.path.join(original_faces, fname)\r\n",
        "#   dst=os.path.join(test_no_masks_dir, fname)\r\n",
        "#   shutil.copyfile(src,dst)"
      ],
      "execution_count": null,
      "outputs": []
    },
    {
      "cell_type": "markdown",
      "metadata": {
        "id": "3k8HUA5ZoOpA"
      },
      "source": [
        "### 2 Brief data preprocessing "
      ]
    },
    {
      "cell_type": "code",
      "metadata": {
        "id": "Mw9HnGrTl8kH"
      },
      "source": [
        "# Sequential model | Create linear stack of layers\r\n",
        "model = Sequential()\r\n",
        "\r\n",
        "# Convolutional layer | Conv2D\r\n",
        "model.add(Conv2D(32, (3, 3), activation='relu', input_shape=(64,64, 3)))\r\n",
        "model.add(MaxPooling2D((2, 2)))\r\n",
        "# model.add(Conv2D(64, (3, 3), activation='relu'))\r\n",
        "# model.add(MaxPooling2D((2, 2)))\r\n",
        "\r\n",
        "# Flatten output of Conv\r\n",
        "model.add(Flatten())\r\n",
        "# Hidden layer\r\n",
        "model.add(Dense(32, activation='relu'))\r\n",
        "# Output layer\r\n",
        "model.add(Dense(1, activation='sigmoid'))"
      ],
      "execution_count": 32,
      "outputs": []
    },
    {
      "cell_type": "code",
      "metadata": {
        "id": "vjTMhvaBNulG"
      },
      "source": [
        "# compiling the model\r\n",
        "model.compile(optimizer = 'adam', \r\n",
        "              loss = 'binary_crossentropy',\r\n",
        "              metrics=['accuracy'])"
      ],
      "execution_count": 33,
      "outputs": []
    },
    {
      "cell_type": "code",
      "metadata": {
        "colab": {
          "base_uri": "https://localhost:8080/"
        },
        "id": "8KFLXQTYNvCn",
        "outputId": "c3f77843-2044-4a0c-e6b8-3dc958c6fd12"
      },
      "source": [
        "# visualizing the model structure\r\n",
        "model.summary()"
      ],
      "execution_count": 34,
      "outputs": [
        {
          "output_type": "stream",
          "text": [
            "Model: \"sequential_2\"\n",
            "_________________________________________________________________\n",
            "Layer (type)                 Output Shape              Param #   \n",
            "=================================================================\n",
            "conv2d_2 (Conv2D)            (None, 62, 62, 32)        896       \n",
            "_________________________________________________________________\n",
            "max_pooling2d_2 (MaxPooling2 (None, 31, 31, 32)        0         \n",
            "_________________________________________________________________\n",
            "flatten_2 (Flatten)          (None, 30752)             0         \n",
            "_________________________________________________________________\n",
            "dense_3 (Dense)              (None, 32)                984096    \n",
            "_________________________________________________________________\n",
            "dense_4 (Dense)              (None, 1)                 33        \n",
            "=================================================================\n",
            "Total params: 985,025\n",
            "Trainable params: 985,025\n",
            "Non-trainable params: 0\n",
            "_________________________________________________________________\n"
          ],
          "name": "stdout"
        }
      ]
    },
    {
      "cell_type": "code",
      "metadata": {
        "id": "e0qmHJ3TI37t"
      },
      "source": [
        "# scaling the data\r\n",
        "train_datagen=ImageDataGenerator(rescale = 1./255)\r\n",
        "validation_datagen=ImageDataGenerator(rescale = 1./255)\r\n",
        "test_datagen=ImageDataGenerator(rescale = 1./255)"
      ],
      "execution_count": 35,
      "outputs": []
    },
    {
      "cell_type": "code",
      "metadata": {
        "colab": {
          "base_uri": "https://localhost:8080/"
        },
        "id": "BD2vBwm9J6cJ",
        "outputId": "1a1f2cf2-d0d8-422d-caf6-16bc60bc5d30"
      },
      "source": [
        "# importing the images\r\n",
        "# flow when numpy array input, flow_from_directory when the inputs are directly images\r\n",
        "\r\n",
        "training_set = train_datagen.flow_from_directory('/content/gdrive/MyDrive/Project Deeplearning/train',\r\n",
        "                                                 target_size = (64, 64),\r\n",
        "                                                 batch_size = 20,\r\n",
        "                                                 class_mode = 'binary')\r\n",
        "\r\n",
        "\r\n",
        "validation_set = validation_datagen.flow_from_directory('/content/gdrive/MyDrive/Project Deeplearning/validation', \r\n",
        "                                                        target_size = (64, 64),\r\n",
        "                                                        batch_size = 20,\r\n",
        "                                                        class_mode = 'binary')\r\n",
        "\r\n",
        "test_set = test_datagen.flow_from_directory('/content/gdrive/MyDrive/Project Deeplearning/test',\r\n",
        "                                            target_size = (64, 64),\r\n",
        "                                            batch_size = 20,\r\n",
        "                                            class_mode = 'binary',\r\n",
        "                                            shuffle = False)\r\n"
      ],
      "execution_count": 36,
      "outputs": [
        {
          "output_type": "stream",
          "text": [
            "Found 1980 images belonging to 2 classes.\n",
            "Found 566 images belonging to 2 classes.\n",
            "Found 284 images belonging to 2 classes.\n"
          ],
          "name": "stdout"
        }
      ]
    },
    {
      "cell_type": "markdown",
      "metadata": {
        "id": "YAS0TlCLlK7r"
      },
      "source": [
        "# Problem :\r\n",
        "we have to solve the problem of the fitting phase.\r\n",
        "error raising with the method fit_generator, probably issue with reading image from validation set.\r\n",
        "Erro r: \" UnidentifiedImageError: cannot identify image file <_io.BytesIO object at 0x7fbac2e8c830> \""
      ]
    },
    {
      "cell_type": "code",
      "metadata": {
        "id": "uxF4aRPyJaAT",
        "colab": {
          "base_uri": "https://localhost:8080/"
        },
        "outputId": "87f2f6b5-0577-4d4f-9cef-9c18e58d5a67"
      },
      "source": [
        "# fitting the model\r\n",
        "Epochs = 2\r\n",
        "\r\n",
        "#hist=model.fit_generator(training_set,\r\n",
        "#                         steps_per_epoch = 99,\r\n",
        "#                         epochs = 1,\r\n",
        "#                         validation_data = validation_set,\r\n",
        "#                         validation_steps = 28)\r\n",
        "\r\n",
        "\r\n",
        "hist=model.fit_generator(training_set,\r\n",
        "                         validation_data = validation_set,\r\n",
        "                         epochs=Epochs,\r\n",
        "                         steps_per_epoch = len(validation_set))"
      ],
      "execution_count": null,
      "outputs": [
        {
          "output_type": "stream",
          "text": [
            "Epoch 1/2\n",
            "28/29 [===========================>..] - ETA: 5s - loss: 0.5731 - accuracy: 0.7179 "
          ],
          "name": "stdout"
        }
      ]
    },
    {
      "cell_type": "code",
      "metadata": {
        "id": "MEf9Fbs2fKB-"
      },
      "source": [
        "# possible solution to solve the problem above\r\n",
        "\r\n",
        "#from io import BytesIO\r\n",
        "#BytesIO(b\"0x7fbac83f9350\")"
      ],
      "execution_count": null,
      "outputs": []
    },
    {
      "cell_type": "code",
      "metadata": {
        "id": "CIgdlLQhl8dE"
      },
      "source": [
        "# # checking the information of the batch we split\r\n",
        "# # checking if it makes sense with the size of the images\r\n",
        "\r\n",
        "# batchX, batchy = train_iterator.next()\r\n",
        "# print('Train Batch shape=%s, min=%.3f, max=%.3f' % (batchX.shape, batchX.min(), batchX.max()))\r\n",
        "\r\n",
        "# batchX, batchy = validation_iterator.next()\r\n",
        "# print('Validation Batch shape=%s, min=%.3f, max=%.3f' % (batchX.shape, batchX.min(), batchX.max()))\r\n",
        "\r\n",
        "# batchX, batchy = test_iterator.next()\r\n",
        "# print('Test Batch shape=%s, min=%.3f, max=%.3f' % (batchX.shape, batchX.min(), batchX.max()))"
      ],
      "execution_count": null,
      "outputs": []
    },
    {
      "cell_type": "code",
      "metadata": {
        "id": "KAyMIJOBJb6y"
      },
      "source": [
        "# FINALLY OUR MODEL PREDICT\r\n",
        "\r\n",
        "Y_pred = model.predict_generator(test_set, 15)    # ceil(num_of_test_samples / batch_size)\r\n",
        "\r\n",
        "# changing the result as True and False\r\n",
        "Y_pred = (Y_pred>0.5)\r\n",
        "\r\n",
        "\r\n",
        "\r\n",
        "# if you have the last version of tensorflow, the predict_generator is deprecated.\r\n",
        "# you should use the predict method.\r\n",
        "# if you do not have the last version, you must use predict_generator"
      ],
      "execution_count": 39,
      "outputs": []
    },
    {
      "cell_type": "code",
      "metadata": {
        "id": "3QuF5zCj-oQj",
        "colab": {
          "base_uri": "https://localhost:8080/"
        },
        "outputId": "75c7b2b2-a6d9-4a2f-bba8-60c7d6f41f19"
      },
      "source": [
        "Y_pred.shape"
      ],
      "execution_count": 40,
      "outputs": [
        {
          "output_type": "execute_result",
          "data": {
            "text/plain": [
              "(284, 1)"
            ]
          },
          "metadata": {
            "tags": []
          },
          "execution_count": 40
        }
      ]
    },
    {
      "cell_type": "markdown",
      "metadata": {
        "id": "FjSdHDW0ViQ5"
      },
      "source": [
        "## Prediction assessment"
      ]
    },
    {
      "cell_type": "code",
      "metadata": {
        "id": "sv1KJDNaJb9_",
        "colab": {
          "base_uri": "https://localhost:8080/"
        },
        "outputId": "6faa2138-081a-4e32-c37e-f9a8d9ff4fb7"
      },
      "source": [
        "# confusion matrix\r\n",
        "print('Confusion matrix')\r\n",
        "print(confusion_matrix(test_set.classes, Y_pred))"
      ],
      "execution_count": 41,
      "outputs": [
        {
          "output_type": "stream",
          "text": [
            "Confusion matrix\n",
            "[[ 25 117]\n",
            " [ 11 131]]\n"
          ],
          "name": "stdout"
        }
      ]
    },
    {
      "cell_type": "code",
      "metadata": {
        "id": "BSN7fMXvVtC4",
        "colab": {
          "base_uri": "https://localhost:8080/"
        },
        "outputId": "b57d5f29-c3ac-49b2-a36a-fcb8b7b5b95a"
      },
      "source": [
        "# classification report\r\n",
        "print('Classification Report')\r\n",
        "target_names = ['No Mask', 'Mask']\r\n",
        "print(classification_report(test_set.classes, Y_pred, target_names=target_names))"
      ],
      "execution_count": 42,
      "outputs": [
        {
          "output_type": "stream",
          "text": [
            "Classification Report\n",
            "              precision    recall  f1-score   support\n",
            "\n",
            "     No Mask       0.69      0.18      0.28       142\n",
            "        Mask       0.53      0.92      0.67       142\n",
            "\n",
            "    accuracy                           0.55       284\n",
            "   macro avg       0.61      0.55      0.48       284\n",
            "weighted avg       0.61      0.55      0.48       284\n",
            "\n"
          ],
          "name": "stdout"
        }
      ]
    },
    {
      "cell_type": "code",
      "metadata": {
        "id": "7kG6Y1PkYLZG",
        "colab": {
          "base_uri": "https://localhost:8080/",
          "height": 545
        },
        "outputId": "49ce4635-802b-4651-8385-f45859bb316e"
      },
      "source": [
        "# plotting\r\n",
        "\r\n",
        "# displaying the accuracy and loss over the training epochs\r\n",
        "acc = hist.history['accuracy']\r\n",
        "val_acc = hist.history['val_accuracy']\r\n",
        "loss = hist.history['loss']\r\n",
        "val_loss = hist.history['val_loss']\r\n",
        "\r\n",
        "epochs = range(1, len(acc) +1)\r\n",
        "\r\n",
        "plt.plot(epochs, acc, 'bo', label='Training acc')\r\n",
        "plt.plot(epochs, val_acc, 'b', label='Validation acc')\r\n",
        "plt.title('Training and validation accuracy')\r\n",
        "plt.legend()\r\n",
        "plt.figure()\r\n",
        "\r\n",
        "plt.plot(epochs, loss, 'bo', label='Training loss')\r\n",
        "plt.plot(epochs, val_loss, 'b', label='Validation loss')\r\n",
        "plt.title('Training and validation loss')\r\n",
        "plt.legend()\r\n",
        "\r\n",
        "plt.show()"
      ],
      "execution_count": 43,
      "outputs": [
        {
          "output_type": "display_data",
          "data": {
            "image/png": "[encoded data removed]",
            "text/plain": [
              "<Figure size 432x288 with 1 Axes>"
            ]
          },
          "metadata": {
            "tags": [],
            "needs_background": "light"
          }
        },
        {
          "output_type": "display_data",
          "data": {
            "image/png": "[encoded data removed]",
            "text/plain": [
              "<Figure size 432x288 with 1 Axes>"
            ]
          },
          "metadata": {
            "tags": [],
            "needs_background": "light"
          }
        }
      ]
    },
    {
      "cell_type": "markdown",
      "metadata": {
        "id": "InD-J_p3V7nU"
      },
      "source": [
        "# Next Steps : improving the NN"
      ]
    },
    {
      "cell_type": "code",
      "metadata": {
        "id": "EW6c7zH_pXEg"
      },
      "source": [
        "### Code for DATA AUGMENTATION\r\n",
        "\r\n",
        "train_datagen = ImageDataGenerator(rescale = 1./255,\r\n",
        "                                   shear_range = 0.2,\r\n",
        "                                   zoom_range = 0.2,\r\n",
        "                                   horizontal_flip = True)\r\n",
        "# test set only rescaled\r\n",
        "test_datagen = ImageDataGenerator(rescale = 1./255)"
      ],
      "execution_count": null,
      "outputs": []
    },
    {
      "cell_type": "code",
      "metadata": {
        "id": "j4izwvWulNRk"
      },
      "source": [
        "# Set callbacks to analyze the best number of epochs | Try 25,50, and 100\r\n",
        "\r\n",
        "  earlystopping = callbacks.EarlyStopping(monitor =\"val_loss\",  \r\n",
        "                                          mode =\"min\", patience = 5,  \r\n",
        "                                          restore_best_weights = True) \r\n",
        "  \r\n",
        "  history = model.fit(partial_images, partial_labels, batch_size = 128,  \r\n",
        "                      epochs = 25, validation_data =(X_val, y_val),  \r\n",
        "                      callbacks =[earlystopping]) "
      ],
      "execution_count": null,
      "outputs": []
    },
    {
      "cell_type": "code",
      "metadata": {
        "id": "-zUbCNS2joBT"
      },
      "source": [
        "# Train the model for XXXXXX epochs\r\n",
        "#model.fit_generator(train_iterator, steps_per_epoch=len(train_iterator), epochs=XXXXXXX)"
      ],
      "execution_count": null,
      "outputs": []
    },
    {
      "cell_type": "code",
      "metadata": {
        "id": "JllaZG-DjCFv"
      },
      "source": [
        "# Evaluate the model\r\n",
        "_, acc = model.evaluate_generator(test_iterator, steps=len(test_iterator), verbose=0)\r\n",
        "print('Test Accuracy: %.3f' % (acc * 100))"
      ],
      "execution_count": null,
      "outputs": []
    },
    {
      "cell_type": "markdown",
      "metadata": {
        "id": "Af3cjs7aoxsP"
      },
      "source": [
        "### 4. Model assessment"
      ]
    },
    {
      "cell_type": "code",
      "metadata": {
        "id": "CGQ9yM3al8nh"
      },
      "source": [
        ""
      ],
      "execution_count": null,
      "outputs": []
    },
    {
      "cell_type": "code",
      "metadata": {
        "id": "TlRU4Wj9l8x-"
      },
      "source": [
        ""
      ],
      "execution_count": null,
      "outputs": []
    },
    {
      "cell_type": "markdown",
      "metadata": {
        "id": "NMAoTI6do7Ht"
      },
      "source": [
        "### 5. Deployment"
      ]
    },
    {
      "cell_type": "code",
      "metadata": {
        "id": "Fy0Q2hcDo-Qv"
      },
      "source": [
        ""
      ],
      "execution_count": null,
      "outputs": []
    },
    {
      "cell_type": "code",
      "metadata": {
        "id": "NVb4OWHAo-hs",
        "colab": {
          "base_uri": "https://localhost:8080/"
        },
        "outputId": "404e7e99-b598-44c1-e22d-dedd5feb6b99"
      },
      "source": [
        "pip install mtcnn"
      ],
      "execution_count": null,
      "outputs": [
        {
          "output_type": "stream",
          "text": [
            "Collecting mtcnn\n",
            "\u001b[?25l  Downloading https://files.pythonhosted.org/packages/67/43/abee91792797c609c1bf30f1112117f7a87a713ebaa6ec5201d5555a73ef/mtcnn-0.1.0-py3-none-any.whl (2.3MB)\n",
            "\u001b[K     |████████████████████████████████| 2.3MB 5.4MB/s \n",
            "\u001b[?25hRequirement already satisfied: keras>=2.0.0 in /tensorflow-1.15.2/python3.7 (from mtcnn) (2.3.1)\n",
            "Requirement already satisfied: opencv-python>=4.1.0 in /usr/local/lib/python3.7/dist-packages (from mtcnn) (4.1.2.30)\n",
            "Requirement already satisfied: keras-applications>=1.0.6 in /tensorflow-1.15.2/python3.7 (from keras>=2.0.0->mtcnn) (1.0.8)\n",
            "Requirement already satisfied: six>=1.9.0 in /usr/local/lib/python3.7/dist-packages (from keras>=2.0.0->mtcnn) (1.15.0)\n",
            "Requirement already satisfied: pyyaml in /usr/local/lib/python3.7/dist-packages (from keras>=2.0.0->mtcnn) (3.13)\n",
            "Requirement already satisfied: keras-preprocessing>=1.0.5 in /usr/local/lib/python3.7/dist-packages (from keras>=2.0.0->mtcnn) (1.1.2)\n",
            "Requirement already satisfied: numpy>=1.9.1 in /usr/local/lib/python3.7/dist-packages (from keras>=2.0.0->mtcnn) (1.19.5)\n",
            "Requirement already satisfied: h5py in /usr/local/lib/python3.7/dist-packages (from keras>=2.0.0->mtcnn) (2.10.0)\n",
            "Requirement already satisfied: scipy>=0.14 in /usr/local/lib/python3.7/dist-packages (from keras>=2.0.0->mtcnn) (1.4.1)\n",
            "Installing collected packages: mtcnn\n",
            "Successfully installed mtcnn-0.1.0\n"
          ],
          "name": "stdout"
        }
      ]
    },
    {
      "cell_type": "markdown",
      "metadata": {
        "id": "3pBPw1RvmGgf"
      },
      "source": [
        "Example\r\n",
        "https://machinelearningmastery.com/how-to-perform-face-detection-with-classical-and-deep-learning-methods-in-python-with-keras/\r\n",
        "\r\n",
        "Problems websites\r\n",
        "\r\n",
        "https://colab.research.google.com/github/google/eng-edu/blob/master/ml/pc/exercises/image_classification_part1.ipynb\r\n",
        "\r\n",
        "https://github.com/python-pillow/Pillow/issues/1006"
      ]
    }
  ]
}